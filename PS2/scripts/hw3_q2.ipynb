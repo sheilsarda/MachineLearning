{
 "cells": [
  {
   "cell_type": "markdown",
   "metadata": {
    "colab_type": "text",
    "id": "esB_IsP6tXlJ"
   },
   "source": [
    "# Homework 2: Coding\n",
    "\n",
    "**Due Monday September 28th, 11:59pm.**\n",
    "\n",
    "**This assignment can be done individually or in groups of two**\n",
    "\n",
    "**Submit hw2.ipynb to Gradescope (One per group and don't forget to add your partner's name)**"
   ]
  },
  {
   "cell_type": "markdown",
   "metadata": {
    "colab_type": "text",
    "id": "k7A8_5bKoB06"
   },
   "source": [
    "### Imports and Data"
   ]
  },
  {
   "cell_type": "code",
   "execution_count": 1,
   "metadata": {
    "colab": {},
    "colab_type": "code",
    "id": "NexR8Vb2oB0-"
   },
   "outputs": [],
   "source": [
    "\"\"\"\n",
    "Import required libraries.\n",
    "\n",
    "DON'T comment out these imports when submitting your final hw2.py file.\n",
    "\"\"\"\n",
    "import numpy as np\n",
    "import pandas as pd\n",
    "import time\n",
    "import matplotlib.pyplot as plt"
   ]
  },
  {
   "cell_type": "code",
   "execution_count": 2,
   "metadata": {
    "colab": {},
    "colab_type": "code",
    "id": "1zjWYTWxb1N0"
   },
   "outputs": [
    {
     "data": {
      "text/plain": [
       "'\\nFOR COLAB USERS ONLY\\n\\nRun the following code to upload and unzip the data into the Colab environment.\\n\\nPlease comment out *everything* in this cell (including the import) when submitting your .py file.\\n'"
      ]
     },
     "execution_count": 2,
     "metadata": {},
     "output_type": "execute_result"
    }
   ],
   "source": [
    "\"\"\"\n",
    "FOR COLAB USERS ONLY\n",
    "\n",
    "Run the following code to upload and unzip the data into the Colab environment.\n",
    "\n",
    "Please comment out *everything* in this cell (including the import) when submitting your .py file.\n",
    "\"\"\"\n",
    "# from google.colab import files\n",
    "# uploaded = files.upload()\n",
    "# ! unzip hw2_data.zip"
   ]
  },
  {
   "cell_type": "markdown",
   "metadata": {
    "colab_type": "text",
    "id": "2weGbLJ2txVd"
   },
   "source": [
    "## Q1: Least Squares Regression\n",
    "\n",
    "Implement the following functions for question 1. Please **do not** use the sklearn implementation of linear regression or other imports beyond those listed above."
   ]
  },
  {
   "cell_type": "markdown",
   "metadata": {
    "colab_type": "text",
    "id": "r4LiXAOQoB1J"
   },
   "source": [
    "### L1 and L2 error"
   ]
  },
  {
   "cell_type": "code",
   "execution_count": 3,
   "metadata": {
    "colab": {},
    "colab_type": "code",
    "id": "Z0v0785ioB1M"
   },
   "outputs": [],
   "source": [
    "def L2_error(y, y_hat):\n",
    "    \"\"\"\n",
    "    L2 error loss\n",
    "    \n",
    "    Args:\n",
    "    y ((n,1) np.array): actual labels\n",
    "    y_hat ((n,1) np.array): estimated labels\n",
    "    \n",
    "    Returns:\n",
    "        float: L2 error\n",
    "    \"\"\"\n",
    "    n = y.shape[0]\n",
    "    diff = y - y_hat\n",
    "    L2_error = np.sum(np.square(diff))/n\n",
    "    return L2_error\n",
    "\n",
    "\n",
    "\n",
    "def L1_error(y, y_hat):\n",
    "    \"\"\"\n",
    "    L1 error loss\n",
    "    \n",
    "    Args:\n",
    "    y ((n,1) np.array): actual labels\n",
    "    y_hat ((n,1) np.array): estimated labels\n",
    "    \n",
    "    Returns:\n",
    "        float: L1 error\n",
    "    \"\"\"\n",
    "    n = y.shape[0]\n",
    "    diff = y - y_hat\n",
    "    L1_error = np.sum(np.absolute(diff))/n\n",
    "    \n",
    "    return L1_error"
   ]
  },
  {
   "cell_type": "markdown",
   "metadata": {
    "colab_type": "text",
    "id": "asQPLD_HoB1T"
   },
   "source": [
    "### Least Square Regression"
   ]
  },
  {
   "cell_type": "code",
   "execution_count": 4,
   "metadata": {
    "colab": {},
    "colab_type": "code",
    "id": "JVMYIbQGoB1W"
   },
   "outputs": [],
   "source": [
    "def LinearRegression(train_data, train_labels):\n",
    "    \"\"\"\n",
    "    Runs OLS on the given data.\n",
    "    \n",
    "    Args:\n",
    "        train_data ((n,p) np.array): n is the number of training points and p the number of features\n",
    "        train_labels ((n,1) np.array): training labels for the training data    \n",
    "    \n",
    "    Returns\n",
    "        tuple: (w, b) where w is a (p,1) weight vector, and b the bias term     \n",
    "    \"\"\"\n",
    "    (n, p) = train_data.shape\n",
    "    X = np.ones((n, p+1))\n",
    "    \n",
    "    X[:, 1:] = train_data\n",
    "    a = np.linalg.inv(np.dot(X.T, X))\n",
    "    b = np.dot(X.T, train_labels)\n",
    "    \n",
    "    W = np.dot(a, b)\n",
    "    \n",
    "    w = W[1:, :]\n",
    "    b = W[0, 0]\n",
    "    \n",
    "    return (w,b)"
   ]
  },
  {
   "cell_type": "markdown",
   "metadata": {
    "colab_type": "text",
    "id": "2-MIQRMFoB1j"
   },
   "source": [
    "### Ridge Regression"
   ]
  },
  {
   "cell_type": "code",
   "execution_count": 5,
   "metadata": {
    "colab": {},
    "colab_type": "code",
    "id": "8twOpQynoB1m"
   },
   "outputs": [],
   "source": [
    "def LinearRegressionL2(train_data, train_labels, lambda_):\n",
    "    \"\"\"\n",
    "    Runs linear regression with L2 regularization (ridge) on the given data.\n",
    "    \n",
    "    Args:\n",
    "        train_data ((n,p) np.array): n is the number of training points and p the number of features\n",
    "        train_labels ((n,1) np.array): training labels for the training data    \n",
    "        lambda_  (float): scalar weighting the L2 penalty\n",
    "\n",
    "    Returns\n",
    "        tuple: (w, b) where w is a (p,1) weight vector, and b the bias term  \n",
    "    \"\"\"\n",
    "    n = train_data.shape[0]\n",
    "    p = train_data.shape[1]\n",
    "    \n",
    "    X = np.ones((n, p+1))\n",
    "    X[:, 1:] = train_data\n",
    "    \n",
    "    a = np.linalg.inv(np.dot(X.T, X) + lambda_*n*np.eye(p+1))\n",
    "    b = np.dot(X.T, train_labels)\n",
    "    \n",
    "    W = np.dot(a, b)\n",
    "    \n",
    "    w = W[1:, :]\n",
    "    b = W[0, 0]\n",
    "    \n",
    "    return (w,b)"
   ]
  },
  {
   "cell_type": "markdown",
   "metadata": {
    "colab_type": "text",
    "id": "cOv6gZT-oB10"
   },
   "source": [
    "### Q1.1.1: Learning Curve\n",
    "\n",
    "Use your implementation of (unregularized) least squares regression to learn a regression model from 10$\\%$ of the training data, then 20$\\%$ of the training data, then 30$\\%$ and so on up to 100$\\%$ (separate files containing r$\\%$ of the training examples are provided under the folder for this problem with file names **Data-set-1/Train-subsets/X$\\_$train$\\_$r$\\%$.txt**, and the corresponding labels are provided with the file names **y$\\_$train$\\_$r$\\%$.txt** in the same folder). In each case, measure both the $L_1$ and $L_2$ error on the training examples used, as well as the error on the given test set. Plot a curve showing both errors (on the *y-axis* as a function of the number of training examples used (on the *x-axis*).\n",
    "\n",
    "Add the resulting curve to your Latex document."
   ]
  },
  {
   "cell_type": "code",
   "execution_count": 27,
   "metadata": {
    "colab": {},
    "colab_type": "code",
    "id": "3gGq3BStoB12"
   },
   "outputs": [
    {
     "data": {
      "image/png": "[encoded data removed]",
      "text/plain": [
       "<Figure size 432x288 with 1 Axes>"
      ]
     },
     "metadata": {
      "needs_background": "light"
     },
     "output_type": "display_data"
    }
   ],
   "source": [
    "\"\"\"\n",
    "Please remember to comment out all code not contained within a function before \n",
    "submitting your file.\n",
    "\"\"\"\n",
    "\n",
    "X_test = pd.read_csv('hw2_data/Data-set-1/X_test.txt', header=None).values\n",
    "y_test = pd.read_csv('hw2_data/Data-set-1/y_test.txt', header=None).values\n",
    "\n",
    "#TODO your code here: Question 1.1.1.\n",
    "L1_train_errors = []\n",
    "L2_train_errors = []\n",
    "L1_test_errors = []\n",
    "L2_test_errors = []\n",
    "\n",
    "for subset in range(10, 110, 10):\n",
    "    X_train = pd.read_csv('hw2_data/Data-set-1/Train-subsets/X_train_'+str(subset)+'_.txt', header=None).values\n",
    "    y_train = pd.read_csv('hw2_data/Data-set-1/Train-subsets/y_train_'+str(subset)+'_.txt', header=None).values\n",
    "\n",
    "    (w, b) = LinearRegression(X_train, y_train)\n",
    "    y_pred_train = np.dot(X_train, w) + b\n",
    "    y_pred_test = np.dot(X_test, w) + b\n",
    "    \n",
    "    L1_error_train = L1_error(y_train, y_pred_train)\n",
    "    L1_error_test = L1_error(y_test, y_pred_test)\n",
    "    L1_train_errors.append(L1_error_train)\n",
    "    L1_test_errors.append(L1_error_test)\n",
    "    \n",
    "    L2_error_train = L2_error(y_train, y_pred_train)\n",
    "    L2_error_test = L2_error(y_test, y_pred_test)\n",
    "    L2_train_errors.append(L2_error_train)\n",
    "    L2_test_errors.append(L2_error_test)    \n",
    "    \n",
    "plt.plot(range(10),L1_train_errors, label ='L1_train')\n",
    "plt.plot(range(10),L1_test_errors, label ='L1_test')\n",
    "plt.plot(range(10),L2_train_errors, label = 'L2_train')\n",
    "plt.plot(range(10),L2_test_errors, label = 'L2_test')\n",
    "plt.legend(bbox_to_anchor=(1.05, 1), loc='upper left', borderaxespad=0.)\n",
    "plt.title(\"Learning Curve\")\n",
    "plt.xlabel(\"Percent of Training Data\")\n",
    "plt.xticks(range(10), range(10,101,10))\n",
    "plt.ylabel(\"Error\")\n",
    "plt.show()"
   ]
  },
  {
   "cell_type": "markdown",
   "metadata": {
    "colab_type": "text",
    "id": "giK5b9ukoB1_"
   },
   "source": [
    "### Q1.1.2: Analysis of model learned from full training data\n",
    "\n",
    "Write down the weight and bias terms, $\\hat{w}$ and $\\hat{b}$, learned from the full training data in your Latex document. Also, write down the $L_2$ training and test error of this model. In a single figure, draw a plot of the learned linear function (input instance on the *x-axis* and the predicted value on the *y-axis*), along with a scatter plot depicting the true label associated with each test instance.\n",
    "\n",
    "Add the resulting plot to your Latex document."
   ]
  },
  {
   "cell_type": "code",
   "execution_count": 28,
   "metadata": {
    "colab": {},
    "colab_type": "code",
    "id": "xvVwctBdoB2B"
   },
   "outputs": [
    {
     "name": "stdout",
     "output_type": "stream",
     "text": [
      "w:  [[-2.23442304]]\n",
      "b:  1.1671738819238153\n",
      "L2 training error: 0.2876339586619919\n",
      "L2 test error    : 0.33475968697353337\n"
     ]
    },
    {
     "data": {
      "image/png": "[encoded data removed]",
      "text/plain": [
       "<Figure size 432x288 with 1 Axes>"
      ]
     },
     "metadata": {
      "needs_background": "light"
     },
     "output_type": "display_data"
    }
   ],
   "source": [
    "\"\"\"\n",
    "Please remember to comment out all code not contained within a function before \n",
    "submitting your file.\n",
    "\"\"\"\n",
    "\n",
    "X_test = pd.read_csv('hw2_data/Data-set-1/X_test.txt', header=None).values\n",
    "y_test = pd.read_csv('hw2_data/Data-set-1/y_test.txt', header=None).values\n",
    "X_train = pd.read_csv('hw2_data/Data-set-1/X_train.txt',header=None).values\n",
    "y_train = pd.read_csv('hw2_data/Data-set-1/y_train.txt', header=None).values\n",
    "\n",
    "#TODO your code here: Question 1.1.2.\n",
    "(w, b) = LinearRegression(X_train, y_train)\n",
    "\n",
    "print('w: ', w)\n",
    "print('b: ', b)\n",
    "\n",
    "y_pred_train = np.dot(X_train, w) + b\n",
    "y_pred_test = np.dot(X_test, w) + b\n",
    "\n",
    "L2_error_train = L2_error(y_train, y_pred_train)\n",
    "L2_error_test = L2_error(y_test, y_pred_test)\n",
    "print('L2 training error:', L2_error_train)\n",
    "print('L2 test error    :', L2_error_test)\n",
    "\n",
    "x = np.linspace(0,1)\n",
    "plt.plot(x,(x * w + b).T, color='red')\n",
    "plt.scatter(X_test, y_test)\n",
    "plt.title('Model from Full Training Data')\n",
    "plt.show()"
   ]
  },
  {
   "cell_type": "markdown",
   "metadata": {
    "colab_type": "text",
    "id": "P20rbONVoB2P"
   },
   "source": [
    "### Q1.2.1-2: Regression on different portions of training data\n",
    "\n",
    "#### Regression on 5$\\%$ of the training data. \n",
    "Use your implementation of $L_2$-regularized least squares regression to learn a model on 5$\\%$ of the training data. Select the regularization parameter from the range $\\{$0.1,1,10,50,100,150,200,500,1000,2500,5000$\\}$ using 5-fold cross validation on the relevant training data. Draw a plot showing $\\lambda$ on the *x-axis* and the training, test, and cross validation errors on the *y-axis* using the $L_2$ error. \n",
    "\n",
    "Then record the chosen value of $\\lambda$ along with the weight vector, bias term, and all corresponding errors for the chosen value of $\\lambda$.\n",
    "        \n",
    "#### Regression on 100$\\%$ of the training data.\n",
    "\n",
    "Repeat the above process, but instead learn from the full training data for $L_2$-regularized regression. Plot all of the errors, and record the chosen value of $\\lambda$ along with the weight vector, bias term, and all corresponding errors for the chosen value of $\\lambda$.\n",
    "\n",
    "Add the resulting curves to your Latex document."
   ]
  },
  {
   "cell_type": "code",
   "execution_count": 29,
   "metadata": {
    "colab": {},
    "colab_type": "code",
    "id": "ssEm895ToB2T"
   },
   "outputs": [
    {
     "name": "stdout",
     "output_type": "stream",
     "text": [
      "=============================\n",
      "lambda:  0.1  b:  -3064.11067472829\n",
      "w: [[ 3.38723280e+03]\n",
      " [ 7.58457227e+03]\n",
      " [ 2.69630490e+03]\n",
      " [-6.17752959e+01]\n",
      " [ 3.01287546e+02]\n",
      " [-2.03570908e+01]\n",
      " [ 1.48763631e+02]\n",
      " [ 5.06386976e+04]]\n",
      "training error 4418834306.376352\n",
      "test error 8020741257.03428\n",
      "val error 4856822219.80739\n",
      "=============================\n",
      "lambda:  1  b:  -322.9294795707028\n",
      "w: [[ 3.61806032e+02]\n",
      " [-2.60621385e+01]\n",
      " [ 2.01262900e+03]\n",
      " [-2.06156978e+01]\n",
      " [ 6.68992873e+01]\n",
      " [-4.15818522e+01]\n",
      " [ 2.30550879e+02]\n",
      " [ 3.43252270e+04]]\n",
      "training error 5072388878.637431\n",
      "test error 7398857669.114992\n",
      "val error 5416593266.376788\n",
      "=============================\n",
      "lambda:  10  b:  -4.2592675631378825\n",
      "w: [[-1134.51758832]\n",
      " [-1754.28533876]\n",
      " [ 1699.61394948]\n",
      " [   40.86192117]\n",
      " [ -273.19886652]\n",
      " [  -63.76819327]\n",
      " [  326.58170817]\n",
      " [ 8959.53553786]]\n",
      "training error 8173707883.9974165\n",
      "test error 10250865706.227457\n",
      "val error 13507755947.783104\n",
      "=============================\n",
      "lambda:  50  b:  8.02121946160571\n",
      "w: [[-1024.38972486]\n",
      " [ -357.49783523]\n",
      " [ 1404.1006543 ]\n",
      " [   53.87402863]\n",
      " [ -347.28116174]\n",
      " [  -66.51514637]\n",
      " [  344.94409519]\n",
      " [ 2151.77914793]]\n",
      "training error 9596299844.833487\n",
      "test error 11946417154.991976\n",
      "val error 16330909248.312313\n",
      "=============================\n",
      "lambda:  100  b:  8.64688644676005\n",
      "w: [[-1027.99790778]\n",
      " [  -62.80382405]\n",
      " [ 1143.49616855]\n",
      " [   53.73527792]\n",
      " [ -348.6529806 ]\n",
      " [  -65.30246121]\n",
      " [  344.61525009]\n",
      " [ 1122.11187943]]\n",
      "training error 9877236949.126722\n",
      "test error 12336173712.137505\n",
      "val error 16760522540.21319\n",
      "=============================\n",
      "lambda:  150  b:  8.799725790747289\n",
      "w: [[-1035.99599215]\n",
      " [   50.39815082]\n",
      " [  979.16134333]\n",
      " [   52.84051232]\n",
      " [ -344.55141961]\n",
      " [  -63.7218971 ]\n",
      " [  342.04442923]\n",
      " [  768.11493874]]\n",
      "training error 9999076636.602633\n",
      "test error 12545690368.834307\n",
      "val error 16879928345.719915\n",
      "=============================\n",
      "lambda:  200  b:  8.842168925564891\n",
      "w: [[-1039.75177459]\n",
      " [  110.70608954]\n",
      " [  866.67594379]\n",
      " [   51.97211296]\n",
      " [ -339.88905669]\n",
      " [  -62.07138569]\n",
      " [  338.86749916]\n",
      " [  588.94927951]]\n",
      "training error 10074674777.302338\n",
      "test error 12703730249.424143\n",
      "val error 16912375462.820395\n",
      "=============================\n",
      "lambda:  500  b:  8.576244139985988\n",
      "w: [[-1014.75081033]\n",
      " [  219.03509165]\n",
      " [  569.73378519]\n",
      " [   48.25032954]\n",
      " [ -315.33910907]\n",
      " [  -52.46985463]\n",
      " [  318.10651201]\n",
      " [  261.45894414]]\n",
      "training error 10306493296.67504\n",
      "test error 13391780110.175173\n",
      "val error 16778083599.81713\n",
      "=============================\n",
      "lambda:  1000  b:  7.864196875215086\n",
      "w: [[-935.31126866]\n",
      " [ 237.45356837]\n",
      " [ 413.97270049]\n",
      " [  44.30281239]\n",
      " [-284.07418735]\n",
      " [ -38.75692547]\n",
      " [ 287.01114814]\n",
      " [ 148.34312968]]\n",
      "training error 10583980143.887539\n",
      "test error 14339514568.563425\n",
      "val error 16649703776.510645\n",
      "=============================\n",
      "lambda:  2500  b:  6.1607000418206646\n",
      "w: [[-735.65918138]\n",
      " [ 203.83573444]\n",
      " [ 266.48139032]\n",
      " [  37.03097031]\n",
      " [-221.27220443]\n",
      " [ -10.21726979]\n",
      " [ 221.29713109]\n",
      " [  74.06256202]]\n",
      "training error 11457777644.192886\n",
      "test error 16749914059.059454\n",
      "val error 17226660826.951717\n",
      "=============================\n",
      "lambda:  5000  b:  4.506345221239858\n",
      "w: [[-538.90579949]\n",
      " [ 153.52457665]\n",
      " [ 179.75460596]\n",
      " [  30.46031079]\n",
      " [-162.49053982]\n",
      " [  15.86359209]\n",
      " [ 160.5726201 ]\n",
      " [  43.98325246]]\n",
      "training error 12724853970.023901\n",
      "test error 19618433032.408226\n",
      "val error 18583615639.975777\n"
     ]
    },
    {
     "data": {
      "image/png": "[encoded data removed]",
      "text/plain": [
       "<Figure size 432x288 with 1 Axes>"
      ]
     },
     "metadata": {
      "needs_background": "light"
     },
     "output_type": "display_data"
    },
    {
     "name": "stdout",
     "output_type": "stream",
     "text": [
      "=============================\n",
      "lambda:  0.1  b:  -1727.2134438706562\n",
      "w: [[-1.33350946e+03]\n",
      " [-5.25444158e+03]\n",
      " [ 1.50281613e+03]\n",
      " [-3.44638514e+01]\n",
      " [ 1.52907091e+02]\n",
      " [-3.01196974e+01]\n",
      " [ 1.15840351e+02]\n",
      " [ 4.78933125e+04]]\n",
      "training error 5736263552.429791\n",
      "test error 5152682299.804243\n",
      "val error 6672178868.376767\n",
      "=============================\n",
      "lambda:  1  b:  -137.298417006823\n",
      "w: [[-2.12497619e+03]\n",
      " [-6.43086438e+03]\n",
      " [ 1.41497391e+03]\n",
      " [-1.31215802e+01]\n",
      " [ 4.74820830e+01]\n",
      " [-3.78441335e+01]\n",
      " [ 1.46220787e+02]\n",
      " [ 3.36735142e+04]]\n",
      "training error 6273858765.89447\n",
      "test error 5841874624.468802\n",
      "val error 7085308065.385886\n",
      "=============================\n",
      "lambda:  10  b:  14.792671889095487\n",
      "w: [[-1768.1243979 ]\n",
      " [-2620.44118793]\n",
      " [ 1329.7825372 ]\n",
      " [   22.5670311 ]\n",
      " [ -127.87839647]\n",
      " [  -49.04517495]\n",
      " [  192.09749505]\n",
      " [ 8825.9549752 ]]\n",
      "training error 9435947424.455523\n",
      "test error 10063361257.64896\n",
      "val error 10322755786.423218\n",
      "=============================\n",
      "lambda:  50  b:  12.776355785473413\n",
      "w: [[-1364.6412896 ]\n",
      " [ -417.6146763 ]\n",
      " [ 1132.72206638]\n",
      " [   31.42716034]\n",
      " [ -172.72900784]\n",
      " [  -51.43402579]\n",
      " [  203.38050055]\n",
      " [ 2102.81171014]]\n",
      "training error 10887767663.714628\n",
      "test error 11986774388.582233\n",
      "val error 11854961656.141838\n",
      "=============================\n",
      "lambda:  100  b:  11.810714293878334\n",
      "w: [[-1315.76775849]\n",
      " [  -39.75134844]\n",
      " [  972.19548964]\n",
      " [   32.47780884]\n",
      " [ -178.20935306]\n",
      " [  -51.37783773]\n",
      " [  204.34989432]\n",
      " [ 1093.98802916]]\n",
      "training error 11147877949.624866\n",
      "test error 12335072314.936348\n",
      "val error 12150000336.896189\n",
      "=============================\n",
      "lambda:  150  b:  11.465649736033726\n",
      "w: [[-1302.7808696 ]\n",
      " [   94.5769683 ]\n",
      " [  867.49415483]\n",
      " [   32.79448078]\n",
      " [ -179.14115885]\n",
      " [  -50.98180352]\n",
      " [  203.68909709]\n",
      " [  747.79521967]]\n",
      "training error 11251256892.33691\n",
      "test error 12479486604.718449\n",
      "val error 12281980801.530825\n",
      "=============================\n",
      "lambda:  200  b:  11.273549788901008\n",
      "w: [[-1295.25663733]\n",
      " [  163.1136263 ]\n",
      " [  793.60097912]\n",
      " [   32.97367657]\n",
      " [ -178.89439808]\n",
      " [  -50.47804815]\n",
      " [  202.4645865 ]\n",
      " [  572.75900386]]\n",
      "training error 11312606387.006985\n",
      "test error 12570173214.512224\n",
      "val error 12370290484.913363\n",
      "=============================\n",
      "lambda:  500  b:  10.642791339730636\n",
      "w: [[-1250.18021611]\n",
      " [  280.58949453]\n",
      " [  586.64942049]\n",
      " [   33.75644963]\n",
      " [ -172.66854139]\n",
      " [  -47.00877143]\n",
      " [  192.28514127]\n",
      " [  253.53462671]]\n",
      "training error 11504987135.153784\n",
      "test error 12889083660.520538\n",
      "val error 12714578226.343283\n",
      "=============================\n",
      "lambda:  1000  b:  9.837730278922628\n",
      "w: [[-1164.88199101]\n",
      " [  300.13179756]\n",
      " [  466.52353933]\n",
      " [   34.99772056]\n",
      " [ -160.98368298]\n",
      " [  -41.52057019]\n",
      " [  175.17355042]\n",
      " [  144.03596359]]\n",
      "training error 11777828874.199823\n",
      "test error 13330451586.074394\n",
      "val error 13218429017.173773\n",
      "=============================\n",
      "lambda:  2500  b:  7.9970295690177196\n",
      "w: [[-951.59571933]\n",
      " [ 264.11610228]\n",
      " [ 334.81139553]\n",
      " [  37.91755032]\n",
      " [-133.69558802]\n",
      " [ -29.10058255]\n",
      " [ 136.30158827]\n",
      " [  73.03159475]]\n",
      "training error 12797826951.716532\n",
      "test error 14726510060.782274\n",
      "val error 14790801839.480225\n",
      "=============================\n",
      "lambda:  5000  b:  6.085587558327859\n",
      "w: [[-725.34517314]\n",
      " [ 206.12359645]\n",
      " [ 242.31434253]\n",
      " [  40.80165338]\n",
      " [-105.3442653 ]\n",
      " [ -16.62929345]\n",
      " [  97.8564694 ]\n",
      " [  44.44618   ]]\n",
      "training error 14513243489.47782\n",
      "test error 16833585985.090137\n",
      "val error 17102514654.058632\n"
     ]
    },
    {
     "data": {
      "image/png": "[encoded data removed]",
      "text/plain": [
       "<Figure size 432x288 with 1 Axes>"
      ]
     },
     "metadata": {
      "needs_background": "light"
     },
     "output_type": "display_data"
    }
   ],
   "source": [
    "\"\"\"\n",
    "Please remember to comment out all code not contained within a function before \n",
    "submitting your file.\n",
    "\"\"\"\n",
    "\n",
    "for i in [5, 100]:\n",
    "    lambda_ = [0.1,1,10,50,100,150,200,500,1000,2500,5000]\n",
    "    train_error = []\n",
    "    test_error = []\n",
    "    cv_error = []\n",
    "    val_error = 0\n",
    "    X_test = pd.read_csv('hw2_data/Data-set-2/X_test',header=None).values\n",
    "    y_test = pd.read_csv('hw2_data/Data-set-2/y_test',header=None).values\n",
    "    X_train = pd.read_csv('hw2_data/Data-set-2/Train-subsets/X_train_'+str(i)+'.txt',header=None).values\n",
    "    y_train = pd.read_csv('hw2_data/Data-set-2/Train-subsets/y_train_'+str(i)+'.txt',header=None).values \n",
    "    \n",
    "    \n",
    "    for l in lambda_:\n",
    "        (w, b) = LinearRegressionL2(X_train, y_train, l)\n",
    "        pred_train = np.dot(X_train, w) + b\n",
    "        train_error.append(L2_error(y_train, pred_train))\n",
    "        \n",
    "        pred_test = np.dot(X_test, w) + b\n",
    "        test_error.append(L2_error(y_test, pred_test))\n",
    "        \n",
    "        for cv in range(1, 6):\n",
    "            X_val_test = pd.read_csv('hw2_data/Data-set-2/Cross-validations/X_'+str(i)+'_fold_'+str(cv)+'_.txt',header=None).values\n",
    "            y_val_test = pd.read_csv('hw2_data/Data-set-2/Cross-validations/y_'+str(i)+'_fold_'+str(cv)+'_.txt',header=None).values\n",
    "\n",
    "            X_val_train = np.asarray([[]])\n",
    "            y_val_train = np.asarray([[]])\n",
    "\n",
    "            for cv1 in range(1, 6):\n",
    "                if cv1 != cv:\n",
    "                    X_val = pd.read_csv('hw2_data/Data-set-2/Cross-validations/X_'+str(i)+'_fold_'+str(cv1)+'_.txt',header=None).values\n",
    "                    y_val = pd.read_csv('hw2_data/Data-set-2/Cross-validations/y_'+str(i)+'_fold_'+str(cv1)+'_.txt',header=None).values\n",
    "                \n",
    "                    if X_val_train.size == 0:\n",
    "                        X_val_train = X_val\n",
    "                        y_val_train = y_val\n",
    "                    else:\n",
    "                        X_val_train = np.append(X_val_train, X_val, axis=0)\n",
    "                        y_val_train = np.append(y_val_train, y_val, axis=0)\n",
    "                    \n",
    "            w_val, b_val = LinearRegressionL2(X_val_train, y_val_train, l)\n",
    "            pred_val = np.dot(X_val_test, w_val) + b_val\n",
    "            val_error += L2_error(y_val_test, pred_val)\n",
    "            \n",
    "        val_error /= 5.0\n",
    "        cv_error.append(val_error)\n",
    "        \n",
    "        # output value\n",
    "        print('=============================')\n",
    "        print('lambda: ', l, ' b: ', b)\n",
    "        print('w:', w)\n",
    "        print('training error',L2_error(y_train, pred_train))\n",
    "        print('test error',L2_error(y_test, pred_test))\n",
    "        print('val error',L2_error(y_val_test, pred_val))\n",
    "            \n",
    "    plt.plot(range(11), train_error, label='training error')\n",
    "    plt.plot(range(11),cv_error, label = 'cv error')\n",
    "    plt.plot(range(11), test_error, label = 'test error')\n",
    "    plt.legend(bbox_to_anchor=(1.05, 1), loc='upper left', borderaxespad=0.)\n",
    "    plt.title('Regression on ' + str(i) + '% of the training data')\n",
    "    plt.ylabel('L2 error')\n",
    "    plt.xlabel('Lambda Value')\n",
    "    plt.xticks(range(11), lambda_)\n",
    "    plt.show()"
   ]
  },
  {
   "cell_type": "markdown",
   "metadata": {
    "colab_type": "text",
    "id": "0zkrzJ8LYWNv"
   },
   "source": [
    "### Q1.2 Report on Latex\n",
    "Answer the following questions on Latex in the respective section.\n",
    "\n",
    "1.2.3 For each of the two training sets considered above (5$\\%$ and 100$\\%$), compare the training and test errors of the models learned using unregularized least squares regression and ridge regression. What can you conclude from this about the value of regularization for small and large training sets?\n",
    "\n",
    "1.2.4 For each of the two training sets considered above (5$\\%$ and 100$\\%$), Which $\\lambda$ should be larger by theory?why? Do those values align with the conclusion you made in part 1.3?\n"
   ]
  },
  {
   "cell_type": "markdown",
   "metadata": {
    "colab_type": "text",
    "id": "XOST5QSSXcCR"
   },
   "source": [
    "## Q2: Batch Gradient Descent\n"
   ]
  },
  {
   "cell_type": "markdown",
   "metadata": {
    "colab_type": "text",
    "id": "3FG2ga9IoB1q"
   },
   "source": [
    "### Gradient Descent Linear Regression"
   ]
  },
  {
   "cell_type": "code",
   "execution_count": 16,
   "metadata": {
    "colab": {},
    "colab_type": "code",
    "id": "1iOD4J1noB1t"
   },
   "outputs": [],
   "source": [
    "def LinearRegressionGD(train_data, train_labels, iters, learning_rate):\n",
    "    \"\"\"\n",
    "    Args:\n",
    "        train_data ((n,p) np.array): n is the number of training points and p the number of features\n",
    "        train_labels ((n,1) np.array): training labels for the training data \n",
    "        iters (int): the number of iterations to run Gradient Descent\n",
    "        learning_rate (float): the alpha value for gradient descent\n",
    "\n",
    "    Returns\n",
    "        tuple: (w, b) where w is a (p,1) weight vector, and b the bias term \n",
    "    \"\"\"\n",
    "    n, p = train_data.shape\n",
    "    X = np.ones((n, p+1))\n",
    "    X[:, 1:] = train_data\n",
    "    \n",
    "    w = np.ones((p+1, 1))\n",
    "    for i in range(iters):\n",
    "        gradient = 2 / n * np.matmul(X.T, (np.matmul(X, w) - train_labels))\n",
    "        w -= learning_rate * gradient\n",
    "    \n",
    "    return (w[:-1], w[-1])"
   ]
  },
  {
   "cell_type": "markdown",
   "metadata": {
    "colab_type": "text",
    "id": "GxQ_BL9IoB2q"
   },
   "source": [
    "### Q2.1-2.2: OLS and Gradient Descent Runtime\n",
    "\n",
    "2.1) Time  the  closed-form  unregularized  linear  regression  implementation  you  wrote  inprevious section on the full training data for Data Set 1.  Write down the weight and bias terms,  ˆwandˆb, learned from the full training data, as well as theL2error on the test data, and the time it took torun the full process.\n",
    "\n",
    "2.2) Time the gradient descent implementation you just wrote on the full training data for Data Set 1 with iterations from range $\\{$10, 100, 1000$\\}$, and a learning rate of 0.01. Write down the weight and bias terms , $\\hat{w}$ and $\\hat{b}$, learned from the full training data in your Latex document, as well as the $L_2$ error on the test data, and the time it took to run the full process. "
   ]
  },
  {
   "cell_type": "code",
   "execution_count": 33,
   "metadata": {
    "colab": {},
    "colab_type": "code",
    "id": "dtVVF2hGoB2t"
   },
   "outputs": [
    {
     "name": "stdout",
     "output_type": "stream",
     "text": [
      "--- OLS Closed Form ---\n",
      "W: [[-2.23442304]] B: 1.1671738819238153\n",
      "L2 Training Error: 0.2876339586619919\n",
      "L2 Test Error: 0.33475968697353337\n",
      "Time: 0.004884481430053711\n",
      "\n",
      "---  Gradient Descent [ 100 ] ---\n",
      "W: [[0.0300179]] B: [0.09480728]\n",
      "L2 Training Error: 0.6912980357893119\n",
      "L2 Test Error: 0.6611824852426563\n",
      "Time: 0.002912282943725586\n",
      "---  Gradient Descent [ 1000 ] ---\n",
      "W: [[0.75698276]] B: [-1.47418892]\n",
      "L2 Training Error: 2.2495175609513165\n",
      "L2 Test Error: 2.4401471307741174\n",
      "Time: 0.030885696411132812\n",
      "---  Gradient Descent [ 2000 ] ---\n",
      "W: [[1.04606972]] B: [-2.00997274]\n",
      "L2 Training Error: 3.4183422293735948\n",
      "L2 Test Error: 3.698775500730846\n",
      "Time: 0.044022321701049805\n"
     ]
    }
   ],
   "source": [
    "\"\"\"\n",
    "Please remember to comment out all code not contained within a function before \n",
    "submitting your file.\n",
    "\"\"\"\n",
    "\n",
    "X_test = pd.read_csv('hw2_data/Data-set-1/X_test.txt', header=None).values\n",
    "y_test = pd.read_csv('hw2_data/Data-set-1/y_test.txt', header=None).values\n",
    "X_train = pd.read_csv('hw2_data/Data-set-1/X_train.txt', header=None).values\n",
    "y_train = pd.read_csv('hw2_data/Data-set-1/y_train.txt', header=None).values\n",
    "\n",
    "start = time.time()\n",
    "(w,b) = LinearRegression(X_train, y_train)\n",
    "y_test_pred = np.matmul(X_test, w) + b\n",
    "y_train_pred = np.matmul(X_train, w) + b\n",
    "\n",
    "\n",
    "L2_error(y_test, y_test_pred)\n",
    "print(\"--- OLS Closed Form ---\")\n",
    "print(\"W:\", w.T, \"B:\", b)\n",
    "print(\"L2 Training Error:\", L2_error(y_train, y_train_pred))\n",
    "print(\"L2 Test Error:\", L2_error(y_test, y_test_pred))\n",
    "print(\"Time:\", time.time() - start)\n",
    "print()\n",
    "\n",
    "for iter in [100, 1000, 2000]:\n",
    "    start = time.time()\n",
    "    (w,b) = LinearRegressionGD(X_train, y_train, iter, .01)\n",
    "    y_test_pred = np.matmul(X_test, [w]) + b\n",
    "    y_train_pred = np.matmul(X_train, [w]) + b\n",
    "    L2_error(y_test, y_test_pred)\n",
    "    print(\"---  Gradient Descent [\",str(iter) ,\"] ---\")\n",
    "    print(\"W:\", w, \"B:\", b)\n",
    "    print(\"L2 Training Error:\", L2_error(y_train, y_train_pred))\n",
    "    print(\"L2 Test Error:\", L2_error(y_test, y_test_pred))\n",
    "    print(\"Time:\", time.time() - start)"
   ]
  },
  {
   "cell_type": "markdown",
   "metadata": {
    "colab_type": "text",
    "id": "e57oBdHBa4i0"
   },
   "source": [
    "### Q2.3 Report on Latex\n",
    "Answer the followings question on Latex in the respective section.\n",
    "\n",
    "Which algorithm runs faster? Why might that be the case? Why would we ever use gradient descent linear regression in practice while a closed form solution exists?"
   ]
  },
  {
   "cell_type": "markdown",
   "metadata": {
    "colab_type": "text",
    "id": "iqECw4f6LJCx"
   },
   "source": [
    "## Turning it in\n",
    "\n",
    "\n",
    "**Remember to recomment all script portions of this notebook before submitting (i.e. any code not in a function, excluding code that imports libraries). This is to ensure that the Autograder works properly. Also make sure you did not edit other sections of the code outside of specified areas.**\n",
    "\n",
    "1. Download this notebook as a `hw2.ipynb` file with the functions implemented and the sandbox code commented out\n",
    "  - If using Google Colab, go to \"File -> Download .ipynb\"\n",
    "  - If using Jupyter locally, go to \"File -> Download as -> Notebook (.ipynb)\"\n",
    "  \n",
    "2. Submit `hw2.ipynb` file to Gradescope (you can do this as many times as you'd like before the deadline)"
   ]
  }
 ],
 "metadata": {
  "colab": {
   "collapsed_sections": [],
   "name": "hw2_2020_final.ipynb",
   "provenance": []
  },
  "kernelspec": {
   "display_name": "Python 3",
   "language": "python",
   "name": "python3"
  },
  "language_info": {
   "codemirror_mode": {
    "name": "ipython",
    "version": 3
   },
   "file_extension": ".py",
   "mimetype": "text/x-python",
   "name": "python",
   "nbconvert_exporter": "python",
   "pygments_lexer": "ipython3",
   "version": "3.7.9"
  }
 },
 "nbformat": 4,
 "nbformat_minor": 4
}
