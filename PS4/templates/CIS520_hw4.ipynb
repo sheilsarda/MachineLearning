{
  "nbformat": 4,
  "nbformat_minor": 0,
  "metadata": {
    "colab": {
      "name": "CIS520_hw4.ipynb",
      "provenance": [],
      "collapsed_sections": []
    },
    "kernelspec": {
      "display_name": "Python 3",
      "language": "python",
      "name": "python3"
    },
    "language_info": {
      "codemirror_mode": {
        "name": "ipython",
        "version": 3
      },
      "file_extension": ".py",
      "mimetype": "text/x-python",
      "name": "python",
      "nbconvert_exporter": "python",
      "pygments_lexer": "ipython3",
      "version": "3.7.9"
    }
  },
  "cells": [
    {
      "cell_type": "markdown",
      "metadata": {
        "id": "KAqXcDzKwj4D"
      },
      "source": [
        "# Homework 4: Coding\n",
        "\n",
        "**Due Monday October 12th, 11:59pm.**\n",
        "\n",
        "\n",
        "**In order to avoid module version issues, please complete this assignment on Colab.**\n",
        "\n",
        "**Submit hw4.py file to Gradescope (note there is no autograder for this assignment).**"
      ]
    },
    {
      "cell_type": "code",
      "metadata": {
        "id": "mqy1LtZCIQuG"
      },
      "source": [
        "\"\"\"\n",
        "Import libraries that you might require\n",
        "\"\"\"\n",
        "\n",
        "import numpy as np\n",
        "import math\n",
        "import matplotlib.pyplot as plt\n",
        "import operator\n",
        "from sklearn.metrics import accuracy_score\n",
        "import sklearn.model_selection as ms\n",
        "\n",
        "\n",
        "from sklearn.ensemble import RandomForestClassifier\n",
        "from sklearn.svm import SVC\n",
        "from sklearn.neural_network import MLPClassifier\n",
        "from sklearn.tree import DecisionTreeClassifier\n",
        "from sklearn.ensemble import AdaBoostClassifier\n"
      ],
      "execution_count": 57,
      "outputs": []
    },
    {
      "cell_type": "code",
      "metadata": {
        "id": "5qmuIim2IQuK",
        "outputId": "2a6ccaa1-2fc2-44c3-fcf7-0094bdb9248f",
        "colab": {
          "base_uri": "https://localhost:8080/",
          "height": 34
        }
      },
      "source": [
        "\"\"\"\n",
        "Load data (MNIST digits dataset).\n",
        "\n",
        "Note that we will skip the validation phase for\n",
        "this exercise as by now you are pretty familiar with the typical Machine Learning\n",
        "pipeline.\n",
        "\"\"\"\n",
        "\n",
        "from sklearn.datasets import load_digits\n",
        "digits = load_digits()\n",
        "print(digits.data.shape)\n",
        "\n",
        "X = digits['data']\n",
        "y = digits['target']\n",
        "\n",
        "np.random.seed(100)\n",
        "p = np.random.permutation(len(X))\n",
        "X, y = X[p], y[p]\n",
        "\n",
        "X_train, y_train = X[:1500], y[:1500]\n",
        "X_test, y_test = X[1500:], y[1500:]\n"
      ],
      "execution_count": 58,
      "outputs": [
        {
          "output_type": "stream",
          "text": [
            "(1797, 64)\n"
          ],
          "name": "stdout"
        }
      ]
    },
    {
      "cell_type": "markdown",
      "metadata": {
        "id": "XmURULzoXCvq"
      },
      "source": [
        "# Question 2: Performance Comparisons for three ML algorithms"
      ]
    },
    {
      "cell_type": "markdown",
      "metadata": {
        "id": "BulL-miy2W1a"
      },
      "source": [
        "## 2.0 Accuracy"
      ]
    },
    {
      "cell_type": "code",
      "metadata": {
        "id": "En_czqit2Wip"
      },
      "source": [
        "def train(models, X_train, y_train, X_test, y_test):\n",
        "    \"\"\"\n",
        "    Trains several models and returns the test accuracy for each of them\n",
        "    Args:\n",
        "      models: list of model objects\n",
        "    Returns:\n",
        "      score (float): list of accuracies of the different fitted models on test set\n",
        "    \"\"\"\n",
        "    \n",
        "    # Train and test each model in a for lop\n",
        "    accuracies = []\n",
        "    \n",
        "    for model in models:\n",
        "        clf = model.fit(X_train, y_train) # Train\n",
        "        score = clf.score(X_test, y_test) # Test\n",
        "        accuracies.append(score)\n",
        "\n",
        "    return accuracies"
      ],
      "execution_count": 59,
      "outputs": []
    },
    {
      "cell_type": "markdown",
      "metadata": {
        "id": "z_EG5SVkxrzs"
      },
      "source": [
        "## 2.1 Random Forest Classifier"
      ]
    },
    {
      "cell_type": "code",
      "metadata": {
        "id": "9KC2aNmoXCvr",
        "outputId": "1b985427-2427-47a3-8bd0-5d32b228df97",
        "colab": {
          "base_uri": "https://localhost:8080/",
          "height": 123
        }
      },
      "source": [
        "def modelRF(n_estimators):\n",
        "    \"\"\"\n",
        "    Creates model objects for the Random Forest Classifier.\n",
        "    See the documentation in sklearn here:\n",
        "    https://scikit-learn.org/stable/modules/generated/sklearn.ensemble.RandomForestClassifier.html\n",
        "    Args:\n",
        "    n_estimators: list of hyper parameters\n",
        "    return:\n",
        "    list of classifiers\n",
        "    \"\"\"\n",
        "  \n",
        "    list_n_estimators = n_estimators\n",
        "    random_state = 20 # Do not change this random_state\n",
        "\n",
        "    objs_RFC = []\n",
        "\n",
        "    # Create a list of objects for the classifier for each of the above \"n_estimators\"\n",
        "    for n_est in list_n_estimators:\n",
        "        rf = RandomForestClassifier(n_estimators=n_est, random_state=random_state)\n",
        "        objs_RFC.append(rf)\n",
        "    \n",
        "    return objs_RFC\n",
        "\n",
        "\n",
        "# call the above function to train and test the Random Forest Classifier\n",
        "n_estimators = [1, 5, 10, 50, 100, 500]\n",
        "RF_models = modelRF(n_estimators=n_estimators)\n",
        "RF_accuracies = train(RF_models, X_train, y_train, X_test, y_test)\n",
        "for est, acc in zip(n_estimators, RF_accuracies):\n",
        "    print('Accuracy of %5s : %2d %%' % (\n",
        "        est, acc*100))"
      ],
      "execution_count": 64,
      "outputs": [
        {
          "output_type": "stream",
          "text": [
            "Accuracy of     1 : 73 %\n",
            "Accuracy of     5 : 92 %\n",
            "Accuracy of    10 : 95 %\n",
            "Accuracy of    50 : 96 %\n",
            "Accuracy of   100 : 97 %\n",
            "Accuracy of   500 : 97 %\n"
          ],
          "name": "stdout"
        }
      ]
    },
    {
      "cell_type": "markdown",
      "metadata": {
        "id": "oJrNWsSgz6yh"
      },
      "source": [
        "## 2.2 Kernel SVM"
      ]
    },
    {
      "cell_type": "code",
      "metadata": {
        "id": "ZLg9s5T4pAus",
        "outputId": "60504c9a-ce0f-4c54-aaca-1d0520b243a5",
        "colab": {
          "base_uri": "https://localhost:8080/",
          "height": 70
        }
      },
      "source": [
        "def modelKSVM():\n",
        "    \"\"\"\n",
        "    Creates model objects for the Kernel SVM.\n",
        "    See the documentation in sklearn here:\n",
        "    https://scikit-learn.org/stable/modules/svm.html\n",
        "    \"\"\"\n",
        "\n",
        "    list_kernel_type = ['linear', 'poly', 'rbf']\n",
        "    random_state = 20 # Do not change this random_state\n",
        "\n",
        "    objs_KSVM = []\n",
        "\n",
        "    # Create a list of objects for the classifier for each of the above \"kernel\" types\n",
        "    for kernel in list_kernel_type:\n",
        "        svm = SVC(kernel=kernel, random_state=random_state)\n",
        "        objs_KSVM.append(svm)\n",
        "\n",
        "    return objs_KSVM\n",
        "\n",
        "# Call the above function to train and test the Kernel SVM\n",
        "KSVM_models = modelKSVM()\n",
        "list_kernel_type = ['linear', 'poly', 'rbf']\n",
        "KSVM_accuracies = train(KSVM_models, X_train, y_train, X_test, y_test)\n",
        "for est, acc in zip(list_kernel_type, KSVM_accuracies):\n",
        "    print('Accuracy of %5s : %2d %%' % (\n",
        "        est, acc*100))    "
      ],
      "execution_count": 66,
      "outputs": [
        {
          "output_type": "stream",
          "text": [
            "Accuracy of linear : 98 %\n",
            "Accuracy of  poly : 99 %\n",
            "Accuracy of   rbf : 98 %\n"
          ],
          "name": "stdout"
        }
      ]
    },
    {
      "cell_type": "markdown",
      "metadata": {
        "id": "8vSc15PpxyS2"
      },
      "source": [
        "## 2.3 Multi Layer Perceptron"
      ]
    },
    {
      "cell_type": "code",
      "metadata": {
        "id": "ejmbeisHpBdO",
        "outputId": "eba20fa3-ee1d-4b1b-a541-f1da49721006",
        "colab": {
          "base_uri": "https://localhost:8080/",
          "height": 87
        }
      },
      "source": [
        "def modelMLP():\n",
        "    \"\"\"\n",
        "    Creates model objects for the Multi Layered Perceptron.\n",
        "    See the documentation in sklearn here:\n",
        "    https://scikit-learn.org/stable/modules/generated/sklearn.neural_network.MLPClassifier.html\n",
        "    \"\"\"\n",
        "    \n",
        "    layerSizes = [(3), (10), (10,10,10), (20,50,20)]\n",
        "    random_state = 20 # Do not change this random_state\n",
        "    max_iter = 2000 # fixed max_iter\n",
        "\n",
        "    objs_MLP = []\n",
        "\n",
        "    # Create a list of objects for the classifier for each of the above \"layerSizes\"\n",
        "    for size in layerSizes:\n",
        "        mlp = MLPClassifier(hidden_layer_sizes=size, max_iter=max_iter, random_state=random_state)\n",
        "        objs_MLP.append(mlp)\n",
        "\n",
        "    return objs_MLP\n",
        "\n",
        "# Call the above function to train and test the Multi Layer Perceptron\n",
        "MLP_models = modelMLP()\n",
        "layerSizes = [(3), (10), (10,10,10), (20,50,20)]\n",
        "MLP_accuracies = train(MLP_models, X_train, y_train, X_test, y_test)\n",
        "for est, acc in zip(layerSizes, MLP_accuracies):\n",
        "    print('Accuracy of %5s : %2d %%' % (\n",
        "        est, acc*100))        "
      ],
      "execution_count": 67,
      "outputs": [
        {
          "output_type": "stream",
          "text": [
            "Accuracy of     3 : 85 %\n",
            "Accuracy of    10 : 94 %\n",
            "Accuracy of (10, 10, 10) : 92 %\n",
            "Accuracy of (20, 50, 20) : 96 %\n"
          ],
          "name": "stdout"
        }
      ]
    },
    {
      "cell_type": "markdown",
      "metadata": {
        "id": "82t0UEM2fYOM"
      },
      "source": [
        "## 2.4 AdaBoost"
      ]
    },
    {
      "cell_type": "code",
      "metadata": {
        "id": "9mceSBJ_fXU0",
        "outputId": "773ae63a-df22-4d82-d7bb-b3d3ce8e2ef4",
        "colab": {
          "base_uri": "https://localhost:8080/",
          "height": 123
        }
      },
      "source": [
        "def modelAdaBoost():\n",
        "    \"\"\"\n",
        "    Creates model objects for the AdaBoost.\n",
        "    See the documentation in sklearn here:\n",
        "    https://scikit-learn.org/stable/modules/generated/sklearn.ensemble.AdaBoostClassifier.html\n",
        "    \"\"\"\n",
        "    num_estimators = [1,5,10,50,100,150]\n",
        "    learning_rate = 0.1\n",
        "    max_depth = 3\n",
        "    base_estimate = DecisionTreeClassifier(max_depth=max_depth)\n",
        "    random_state = 20 # Do not change this random_state\n",
        "    \n",
        "    obj_boost = []\n",
        "    \n",
        "    \"\"\" \n",
        "    Create a list of objects for the classifier \n",
        "    for each of combination of above num_estimators and learning_rate\n",
        "    \"\"\"\n",
        "    for n_est in num_estimators:\n",
        "        boost = AdaBoostClassifier(n_estimators=n_est, \n",
        "                                   learning_rate=learning_rate, \n",
        "                                   base_estimator = base_estimate, \n",
        "                                   random_state =random_state)\n",
        "        obj_boost.append(boost)\n",
        "\n",
        "    return obj_boost\n",
        "\n",
        "# Call the above function to train and test the AdaBoost Classifier\n",
        "Ada_models = modelAdaBoost()\n",
        "num_estimators = [1,5,10,50,100,150]\n",
        "Ada_accuracies = train(Ada_models, X_train, y_train, X_test, y_test)\n",
        "for est, acc in zip(num_estimators, Ada_accuracies):\n",
        "    print('Accuracy of %5s : %2d %%' % (\n",
        "        est, acc*100))   "
      ],
      "execution_count": 77,
      "outputs": [
        {
          "output_type": "stream",
          "text": [
            "Accuracy of     1 : 43 %\n",
            "Accuracy of     5 : 82 %\n",
            "Accuracy of    10 : 83 %\n",
            "Accuracy of    50 : 89 %\n",
            "Accuracy of   100 : 92 %\n",
            "Accuracy of   150 : 92 %\n"
          ],
          "name": "stdout"
        }
      ]
    },
    {
      "cell_type": "markdown",
      "metadata": {
        "id": "U9fIU8eP_X1u"
      },
      "source": [
        "# Question 3.2 Convolutional Neural Networks  \n",
        "In this assignment you will be training a Convolutional Neural Network on  \n",
        "the Fashion MNIST dataset.  \n",
        "\n",
        "You may find more information about the dataset [here](https://github.com/zalandoresearch/fashion-mnist).  \n",
        "For this assignment we have already loaded the dataset for you.  \n",
        "  \n",
        "You will be using PyTorch for implementing your CNN. \n",
        "\n",
        "**We highly recommend following [this tutorial](https://pytorch.org/tutorials/beginner/blitz/cifar10_tutorial.html#sphx-glr-beginner-blitz-cifar10-tutorial-py) for this question** as well as referring to the [official documentation](https://pytorch.org/docs/stable/nn.html) if you are unfamiliar with Pytorch."
      ]
    },
    {
      "cell_type": "markdown",
      "metadata": {
        "id": "mL1q9V0O13B6"
      },
      "source": [
        "## Setup: Load Tensorboard\n",
        "\n",
        "The below code is used to load [Tensorboard](https://www.tensorflow.org/guide/summaries_and_tensorboard), which is used to visualize the training and execution of your neural network.\n",
        "\n",
        "Run the below cells and click on the Tensorboard link produced by the third cell below while your network is training (Section 3.2.5) to plot the accuracy and loss curves."
      ]
    },
    {
      "cell_type": "code",
      "metadata": {
        "id": "XWS884Qt13Bd",
        "outputId": "6ea93260-f894-40d2-a8b8-a17b76801a08",
        "colab": {
          "base_uri": "https://localhost:8080/",
          "height": 34
        }
      },
      "source": [
        "!rm -r -f ./logs\n",
        "import datetime\n",
        " \n",
        "LOG_DIR = \"./logs/\" + datetime.datetime.now().strftime(\"%Y%m%d-%H%M%S\")\n",
        "get_ipython().system_raw(\n",
        "    'tensorboard --logdir {} --host 0.0.0.0 --port 6006 &'\n",
        "    .format(LOG_DIR)\n",
        ")\n",
        "\n",
        "!if [ -f ngrok ] ; then echo \"Ngrok already installed\" ; else wget https://bin.equinox.io/c/4VmDzA7iaHb/ngrok-stable-linux-amd64.zip > /dev/null 2>&1 && unzip ngrok-stable-linux-amd64.zip > /dev/null 2>&1 ; fi"
      ],
      "execution_count": 44,
      "outputs": [
        {
          "output_type": "stream",
          "text": [
            "Ngrok already installed\n"
          ],
          "name": "stdout"
        }
      ]
    },
    {
      "cell_type": "code",
      "metadata": {
        "id": "rvbnO1JX13BO"
      },
      "source": [
        "get_ipython().system_raw('./ngrok http 6006 &')"
      ],
      "execution_count": 45,
      "outputs": []
    },
    {
      "cell_type": "code",
      "metadata": {
        "id": "w0lafkzw13Ak",
        "outputId": "fdd9a8d4-6369-4d37-c0b5-f4ab79a18249",
        "colab": {
          "base_uri": "https://localhost:8080/",
          "height": 34
        }
      },
      "source": [
        "! curl -s http://localhost:4040/api/tunnels | python3 -c \\\n",
        "    \"import sys, json; print('Tensorboard Link: ' +str(json.load(sys.stdin)['tunnels'][0]['public_url']))\""
      ],
      "execution_count": 46,
      "outputs": [
        {
          "output_type": "stream",
          "text": [
            "Tensorboard Link: https://ef2bc9fbf7d6.ngrok.io\n"
          ],
          "name": "stdout"
        }
      ]
    },
    {
      "cell_type": "code",
      "metadata": {
        "id": "6k9yrcds6dJK"
      },
      "source": [
        "# %load_ext tensorboard \n",
        "# %tensorboard --logdir logs\n",
        "# logger = Logger(logdir)"
      ],
      "execution_count": 34,
      "outputs": []
    },
    {
      "cell_type": "markdown",
      "metadata": {
        "id": "HSeELIRYjGSG"
      },
      "source": [
        "## Setup: Logger\n",
        "\n",
        "Please look at the functions the logger class provides. You may use them to log   \n",
        "training metrics like loss, accuracy and even some selected images and their  \n",
        "labels to see how network parameters change during training."
      ]
    },
    {
      "cell_type": "code",
      "metadata": {
        "id": "ipIykcBHt1dk"
      },
      "source": [
        "# Code referenced from https://gist.github.com/gyglim/1f8dfb1b5c82627ae3efcfbbadb9f514\n",
        "import tensorflow as tf\n",
        "import numpy as np\n",
        "import scipy.misc \n",
        "try:\n",
        "    from StringIO import StringIO  # Python 2.7\n",
        "except ImportError:\n",
        "    from io import BytesIO         # Python 3.x\n",
        "\n",
        "\n",
        "class Logger(object):\n",
        "    \n",
        "    def __init__(self, log_dir):\n",
        "        \"\"\"Create a summary writer logging to log_dir.\"\"\"\n",
        "        self.writer = tf.summary.create_file_writer(log_dir)\n",
        "\n",
        "    def scalar_summary(self, tag, value, step):\n",
        "        \"\"\"Log a scalar variable.\"\"\"\n",
        "        with self.writer.as_default():\n",
        "            tf.summary.scalar(name=tag, data=value, step=step)\n",
        "        self.writer.flush()\n",
        "\n",
        "    def image_summary(self, tag, images, step):\n",
        "        \"\"\"Log a list of images.\"\"\"\n",
        "\n",
        "        for i, img in enumerate(images):\n",
        "            # Write the image to a string\n",
        "            try:\n",
        "                s = StringIO()\n",
        "            except:\n",
        "                s = BytesIO()\n",
        "            scipy.misc.toimage(img).save(s, format=\"png\")\n",
        "\n",
        "            # Create an Image object as a Summary value\n",
        "            with self.writer.as_default():\n",
        "                tf.summary.image(name='%s/%d' % (tag, i), data=s.getvalue(), step=step)\n",
        "\n",
        "        # Create and write Summary\n",
        "        self.writer.flush()\n",
        "        \n",
        "    def histo_summary(self, tag, values, step, bins=1000):\n",
        "        \"\"\"Log a histogram of the tensor of values.\"\"\"\n",
        "\n",
        "        # Create a histogram using numpy\n",
        "        counts, bin_edges = np.histogram(values, bins=bins)\n",
        "\n",
        "        # Fill the fields of the histogram proto\n",
        "        hist = tf.HistogramProto()\n",
        "        hist.min = float(np.min(values))\n",
        "        hist.max = float(np.max(values))\n",
        "        hist.num = int(np.prod(values.shape))\n",
        "        hist.sum = float(np.sum(values))\n",
        "        hist.sum_squares = float(np.sum(values**2))\n",
        "\n",
        "        # Drop the start of the first bin\n",
        "        bin_edges = bin_edges[1:]\n",
        "\n",
        "        # Add bin edges and counts\n",
        "        for edge in bin_edges:\n",
        "            hist.bucket_limit.append(edge)\n",
        "        for c in counts:\n",
        "            hist.bucket.append(c)\n",
        "\n",
        "        # Create and write Summary\n",
        "        with self.writer.as_default():\n",
        "            tf.summary.histogram(name=tag, data=hist, step=step)\n",
        "        self.writer.flush()\n",
        "logger = Logger('./logs')"
      ],
      "execution_count": 47,
      "outputs": []
    },
    {
      "cell_type": "code",
      "metadata": {
        "id": "UIkuagd9_X1v"
      },
      "source": [
        "import torch\n",
        "import torchvision\n",
        "from torchvision import datasets, transforms"
      ],
      "execution_count": 48,
      "outputs": []
    },
    {
      "cell_type": "markdown",
      "metadata": {
        "id": "qvDAZByo_X1w"
      },
      "source": [
        "##3.2.1 Loading the Dataset\n",
        "The output of torchvision datasets are PILImage images of range [0, 1].  \n",
        "We transform them to Tensors of normalized range [-1, 1].  \n",
        "```Transforms.Normalize((mean,),(std,))``` basically manipulates the values of a pixel such that  \n",
        "$$New\\_Value = \\frac{Old\\_Value - Mean}{Std}$$\n",
        "\n"
      ]
    },
    {
      "cell_type": "code",
      "metadata": {
        "id": "lK7aviwP_X1x"
      },
      "source": [
        "# Define a transform to normalize the data\n",
        "\n",
        "# Set the value of mean and the standard deviation to \n",
        "# normalize the image from range [0,1] to the range [-1, 1]\n",
        "\n",
        "\n",
        "#Begin Your Code\n",
        "\n",
        "mean = 0.5\n",
        "std = 0.5\n",
        "\n",
        "#End Your Code\n",
        "\n",
        "transform = transforms.Compose([transforms.ToTensor(),\n",
        "                                transforms.Normalize((mean,), (std,))\n",
        "                                ])\n",
        "\n",
        "\n",
        "# Select suitable value of batch_sizes.\n",
        "\n",
        "#Begin Your Code\n",
        "\n",
        "train_batch_size = 30\n",
        "test_batch_size = 30\n",
        "\n",
        "#End Your Code\n",
        "\n",
        "# Download and load the training data\n",
        "trainset = datasets.FashionMNIST('~/.pytorch/F_MNIST_data/', download=True, train=True, transform=transform)\n",
        "trainloader = torch.utils.data.DataLoader(trainset, batch_size=train_batch_size, shuffle=True)\n",
        "\n",
        "# Download and load the test data\n",
        "testset = datasets.FashionMNIST('~/.pytorch/F_MNIST_data/', download=True, train=False, transform=transform)\n",
        "testloader = torch.utils.data.DataLoader(testset, batch_size=test_batch_size, shuffle=True)\n",
        "\n",
        "\n",
        "# Classes\n",
        "classes = {       0 :'T-shirt/top',\n",
        "                  1 :'Trouser',\n",
        "                  2 :'Pullover',\n",
        "                  3 :'Dress',\n",
        "                  4 :'Coat',\n",
        "                  5 :'Sandal',\n",
        "                  6 :'Shirt',\n",
        "                  7 :'Sneaker',\n",
        "                  8 :'Bag',\n",
        "                  9 :'Ankle boot'}"
      ],
      "execution_count": 49,
      "outputs": []
    },
    {
      "cell_type": "markdown",
      "metadata": {
        "id": "SFBh6ZhO_X1y"
      },
      "source": [
        "##3.2.2 The Dataset\n",
        "Here we show some images of the dataset.  \n",
        "See how many of the categories can you recognise.\n",
        "\n"
      ]
    },
    {
      "cell_type": "code",
      "metadata": {
        "id": "hX5Irrw-_X1z",
        "outputId": "0fd50891-11e9-4ea1-90bf-e9a9447dc62e",
        "colab": {
          "base_uri": "https://localhost:8080/",
          "height": 507
        }
      },
      "source": [
        "import matplotlib.pyplot as plt\n",
        "from matplotlib.pyplot import figure\n",
        "import numpy as np\n",
        "\n",
        "# Functions to show an image\n",
        "\n",
        "\n",
        "def imshow(img):\n",
        "    img = img / 2 + 0.5     # unnormalize\n",
        "    npimg = img.numpy()\n",
        "    \n",
        "    figure(num=None, figsize=(8, 6), dpi=150, edgecolor='k')\n",
        "    plt.axis('off')\n",
        "    plt.imshow(np.transpose(npimg, (1, 2, 0)))\n",
        "\n",
        "\n",
        "# get some random training images\n",
        "dataiter = iter(trainloader)\n",
        "images, labels = dataiter.next()\n",
        "\n",
        "# show images\n",
        "imshow(torchvision.utils.make_grid(images))"
      ],
      "execution_count": 51,
      "outputs": [
        {
          "output_type": "display_data",
          "data": {
            "image/png": "[encoded data removed]",
            "text/plain": [
              "<Figure size 1200x900 with 1 Axes>"
            ]
          },
          "metadata": {
            "tags": [],
            "needs_background": "light"
          }
        }
      ]
    },
    {
      "cell_type": "markdown",
      "metadata": {
        "id": "le9N91sO_X11"
      },
      "source": [
        "##3.2.3 Create your Convolutional Neural Network\n",
        "Create the CNN with layers and hyperparameter sets as mentioned in the LaTeX pdf for full credit.  \n",
        "You are, however, free to change the architecture as long as you achieve accuracy better than the architecture shown in the LaTeX pdf.\n",
        "\n"
      ]
    },
    {
      "cell_type": "code",
      "metadata": {
        "id": "dWmqB-1b_X11"
      },
      "source": [
        "import torch.nn as nn\n",
        "import torch.nn.functional as F\n",
        "\n",
        "\n",
        "class Net(nn.Module):\n",
        "    def __init__(self):\n",
        "        super(Net, self).__init__()\n",
        "\n",
        "        # Design your network, you are allowed to explore your own architecture\n",
        "        # But you should achieve a better overall accuracy than the baseline network.\n",
        "        # Also, if you do design your own network, include an explanation \n",
        "        # for your choice of network and how it may be better than the \n",
        "        # baseline network in your latex.\n",
        "        \n",
        "        #Begin Your Code\n",
        "        # Layer 1\n",
        "        self.conv1 = nn.Conv2d(in_channels = 1, out_channels=32, \n",
        "                               kernel_size=(5, 5), stride=1, padding = 2)\n",
        "        self.conv2 = nn.Conv2d(in_channels=32, out_channels=32, \n",
        "                               kernel_size=(5, 5), stride=1, padding = 2)\n",
        "        self.conv3 = nn.Conv2d(in_channels=32, out_channels=64, \n",
        "                               kernel_size=(5, 5), stride=1, padding = 2)\n",
        "\n",
        "        self.batch1 = nn.BatchNorm2d(1)\n",
        "        self.batch2 = nn.BatchNorm2d(32)        \n",
        "        self.batch3 = nn.BatchNorm2d(32)\n",
        "\n",
        "        self.pool1 = nn.MaxPool2d(2)\n",
        "        self.pool2 = nn.MaxPool2d(2)\n",
        "        self.pool3 = nn.MaxPool2d(2)\n",
        "        \n",
        "        self.batch4 = nn.BatchNorm2d(64)\n",
        "        self.batch5 = nn.BatchNorm2d(10)\n",
        "\n",
        "        self.fully_conn1 = nn.Linear(in_features = 64*7*7, \n",
        "                                out_features = 64)\n",
        "        self.fully_conn2 = nn.Linear(in_features = 32*7*7, \n",
        "                                out_features = 10)\n",
        "        \n",
        "        self.softmax1 = nn.Softmax()\n",
        "        self.relu = nn.ReLU(inplace=True)\n",
        "        self.flatten = nn.Flatten()\n",
        "\n",
        "        #End Your Code\n",
        "\n",
        "    def forward(self, x):\n",
        "\n",
        "      # Implement the forward function that applies the layers you have created to the input\n",
        "\n",
        "      #Begin Your Code\n",
        "\n",
        "      x = self.conv1(x)\n",
        "      x = self.relu(x)\n",
        "      x = self.pool1(x)\n",
        "\n",
        "      x = self.conv2(x)\n",
        "      x = self.relu(x)\n",
        "      x = self.pool2(x)\n",
        "\n",
        "      out = self.flatten(x)\n",
        "      out = F.dropout(out, p = 0.5, training=True, inplace=True)\n",
        "      out = self.fully_conn2(out)\n",
        "\n",
        "      return out\n",
        "\n",
        "\n",
        "net = Net()\n",
        "\n",
        "      #End Your Code\n",
        "net = Net()"
      ],
      "execution_count": 52,
      "outputs": []
    },
    {
      "cell_type": "markdown",
      "metadata": {
        "id": "jieF6xy__X13"
      },
      "source": [
        "##3.2.4 Define a Loss function and optimizer\n",
        "We will be using [Cross Entropy Loss](https://pytorch.org/docs/stable/nn.html?highlight=crossentropyloss#torch.nn.CrossEntropyLoss) and [Adam optimizer](https://pytorch.org/docs/stable/optim.html?highlight=adam#torch.optim.Adam).  \n",
        "Note: PyTorch's CrossEntropyLoss combines log softmax and negative log likelihood loss in one class. Make sure you are not computing softmax twice.\n",
        "\n"
      ]
    },
    {
      "cell_type": "code",
      "metadata": {
        "id": "_5-Qn1ef_X13"
      },
      "source": [
        "import torch.optim as optim\n",
        "\n",
        "# Use appropriate loss criterion and optimizer \n",
        "\n",
        "#Begin Your Code\n",
        "\n",
        "criterion = nn.CrossEntropyLoss()\n",
        "optimizer = optim.Adam(net.parameters(), lr = 0.001)\n",
        "\n",
        "#End Your Code"
      ],
      "execution_count": 53,
      "outputs": []
    },
    {
      "cell_type": "markdown",
      "metadata": {
        "id": "D4za3t0b_X15"
      },
      "source": [
        "##3.2.5. Train the network\n",
        "\n",
        "Here we are going to train the network while logging the per batch metrics.  \n",
        "This would take some time to run (5-10 minutes).\n",
        "\n"
      ]
    },
    {
      "cell_type": "code",
      "metadata": {
        "id": "r7y1qZI1wyvv",
        "outputId": "e1865af6-0984-49a4-dbe1-dd0d389104b1",
        "colab": {
          "base_uri": "https://localhost:8080/",
          "height": 1000
        }
      },
      "source": [
        "overall_step = 0\n",
        "\n",
        "# Select appropriate number of epochs\n",
        "\n",
        "#Begin Your Code\n",
        "\n",
        "epochs = 25\n",
        "\n",
        "correct = 0\n",
        "total = 0\n",
        "#End Your Code\n",
        "\n",
        "\n",
        "for epoch in range(epochs):  # loop over the dataset multiple times\n",
        "    running_loss = 0\n",
        "    for i, data in enumerate(trainloader, 0):\n",
        "        # get the inputs\n",
        "        inputs, labels = data\n",
        "\n",
        "        # Make predictions, calculate accuracy and update your weights once\n",
        "\n",
        "        # Begin Your Code\n",
        "\n",
        "        # zero the parameter gradients\n",
        "        optimizer.zero_grad()\n",
        "\n",
        "        # forward + backward + optimize\n",
        "        pred = net(inputs)\n",
        "        loss = criterion(pred, labels)\n",
        "\n",
        "        pred_result = pred.argmax(dim = 1)\n",
        "\n",
        "        loss.backward()\n",
        "        optimizer.step()\n",
        "\n",
        "        correct += pred_result.eq(labels).float().sum()\n",
        "        total += train_batch_size\n",
        "        accuracy = correct / total\n",
        "\n",
        "        #End Your Code\n",
        "\n",
        "        # print statistics\n",
        "        running_loss += loss.item()\n",
        "        if i % 200 == 199:    # print every 200 mini-batches\n",
        "            print('Epoch: %d, Batch: %5d, loss: %.3f' %\n",
        "                  (epoch + 1, i + 1, running_loss / 200))\n",
        "            running_loss = 0.0\n",
        "            #Any thing that is added to the \"info\" gets plotted in tensorboard\n",
        "            #TODO : Add the plots in Tensorboard to the report and explain what is happening\n",
        "            info = {'loss' : loss.item(), 'accuracy': accuracy.item()}\n",
        "            for tag, value in info.items():\n",
        "                logger.scalar_summary(tag, value, overall_step+1)\n",
        "                overall_step += 1 \n",
        "\n",
        "print('Finished Training')"
      ],
      "execution_count": 54,
      "outputs": [
        {
          "output_type": "stream",
          "text": [
            "Epoch: 1, Batch:   200, loss: 0.874\n",
            "Epoch: 1, Batch:   400, loss: 0.569\n",
            "Epoch: 1, Batch:   600, loss: 0.487\n",
            "Epoch: 1, Batch:   800, loss: 0.480\n",
            "Epoch: 1, Batch:  1000, loss: 0.446\n",
            "Epoch: 1, Batch:  1200, loss: 0.424\n",
            "Epoch: 1, Batch:  1400, loss: 0.412\n",
            "Epoch: 1, Batch:  1600, loss: 0.398\n",
            "Epoch: 1, Batch:  1800, loss: 0.388\n",
            "Epoch: 1, Batch:  2000, loss: 0.371\n",
            "Epoch: 2, Batch:   200, loss: 0.371\n",
            "Epoch: 2, Batch:   400, loss: 0.370\n",
            "Epoch: 2, Batch:   600, loss: 0.354\n",
            "Epoch: 2, Batch:   800, loss: 0.361\n",
            "Epoch: 2, Batch:  1000, loss: 0.342\n",
            "Epoch: 2, Batch:  1200, loss: 0.344\n",
            "Epoch: 2, Batch:  1400, loss: 0.346\n",
            "Epoch: 2, Batch:  1600, loss: 0.344\n",
            "Epoch: 2, Batch:  1800, loss: 0.326\n",
            "Epoch: 2, Batch:  2000, loss: 0.351\n",
            "Epoch: 3, Batch:   200, loss: 0.325\n",
            "Epoch: 3, Batch:   400, loss: 0.325\n",
            "Epoch: 3, Batch:   600, loss: 0.306\n",
            "Epoch: 3, Batch:   800, loss: 0.325\n",
            "Epoch: 3, Batch:  1000, loss: 0.336\n",
            "Epoch: 3, Batch:  1200, loss: 0.313\n",
            "Epoch: 3, Batch:  1400, loss: 0.316\n",
            "Epoch: 3, Batch:  1600, loss: 0.311\n",
            "Epoch: 3, Batch:  1800, loss: 0.310\n",
            "Epoch: 3, Batch:  2000, loss: 0.317\n",
            "Epoch: 4, Batch:   200, loss: 0.296\n",
            "Epoch: 4, Batch:   400, loss: 0.308\n",
            "Epoch: 4, Batch:   600, loss: 0.298\n",
            "Epoch: 4, Batch:   800, loss: 0.309\n",
            "Epoch: 4, Batch:  1000, loss: 0.313\n",
            "Epoch: 4, Batch:  1200, loss: 0.301\n",
            "Epoch: 4, Batch:  1400, loss: 0.303\n",
            "Epoch: 4, Batch:  1600, loss: 0.293\n",
            "Epoch: 4, Batch:  1800, loss: 0.308\n",
            "Epoch: 4, Batch:  2000, loss: 0.299\n",
            "Epoch: 5, Batch:   200, loss: 0.279\n",
            "Epoch: 5, Batch:   400, loss: 0.278\n",
            "Epoch: 5, Batch:   600, loss: 0.304\n",
            "Epoch: 5, Batch:   800, loss: 0.288\n",
            "Epoch: 5, Batch:  1000, loss: 0.285\n",
            "Epoch: 5, Batch:  1200, loss: 0.284\n",
            "Epoch: 5, Batch:  1400, loss: 0.296\n",
            "Epoch: 5, Batch:  1600, loss: 0.301\n",
            "Epoch: 5, Batch:  1800, loss: 0.269\n",
            "Epoch: 5, Batch:  2000, loss: 0.280\n",
            "Epoch: 6, Batch:   200, loss: 0.254\n",
            "Epoch: 6, Batch:   400, loss: 0.281\n",
            "Epoch: 6, Batch:   600, loss: 0.291\n",
            "Epoch: 6, Batch:   800, loss: 0.283\n",
            "Epoch: 6, Batch:  1000, loss: 0.270\n",
            "Epoch: 6, Batch:  1200, loss: 0.265\n",
            "Epoch: 6, Batch:  1400, loss: 0.293\n",
            "Epoch: 6, Batch:  1600, loss: 0.278\n",
            "Epoch: 6, Batch:  1800, loss: 0.275\n",
            "Epoch: 6, Batch:  2000, loss: 0.264\n",
            "Epoch: 7, Batch:   200, loss: 0.263\n",
            "Epoch: 7, Batch:   400, loss: 0.265\n",
            "Epoch: 7, Batch:   600, loss: 0.264\n",
            "Epoch: 7, Batch:   800, loss: 0.240\n",
            "Epoch: 7, Batch:  1000, loss: 0.271\n",
            "Epoch: 7, Batch:  1200, loss: 0.273\n",
            "Epoch: 7, Batch:  1400, loss: 0.268\n",
            "Epoch: 7, Batch:  1600, loss: 0.267\n",
            "Epoch: 7, Batch:  1800, loss: 0.254\n",
            "Epoch: 7, Batch:  2000, loss: 0.269\n",
            "Epoch: 8, Batch:   200, loss: 0.239\n",
            "Epoch: 8, Batch:   400, loss: 0.252\n",
            "Epoch: 8, Batch:   600, loss: 0.268\n",
            "Epoch: 8, Batch:   800, loss: 0.264\n",
            "Epoch: 8, Batch:  1000, loss: 0.260\n",
            "Epoch: 8, Batch:  1200, loss: 0.258\n",
            "Epoch: 8, Batch:  1400, loss: 0.272\n",
            "Epoch: 8, Batch:  1600, loss: 0.257\n",
            "Epoch: 8, Batch:  1800, loss: 0.265\n",
            "Epoch: 8, Batch:  2000, loss: 0.262\n",
            "Epoch: 9, Batch:   200, loss: 0.240\n",
            "Epoch: 9, Batch:   400, loss: 0.245\n",
            "Epoch: 9, Batch:   600, loss: 0.247\n",
            "Epoch: 9, Batch:   800, loss: 0.253\n",
            "Epoch: 9, Batch:  1000, loss: 0.250\n",
            "Epoch: 9, Batch:  1200, loss: 0.248\n",
            "Epoch: 9, Batch:  1400, loss: 0.250\n",
            "Epoch: 9, Batch:  1600, loss: 0.257\n",
            "Epoch: 9, Batch:  1800, loss: 0.250\n",
            "Epoch: 9, Batch:  2000, loss: 0.244\n",
            "Epoch: 10, Batch:   200, loss: 0.238\n",
            "Epoch: 10, Batch:   400, loss: 0.255\n",
            "Epoch: 10, Batch:   600, loss: 0.240\n",
            "Epoch: 10, Batch:   800, loss: 0.232\n",
            "Epoch: 10, Batch:  1000, loss: 0.255\n",
            "Epoch: 10, Batch:  1200, loss: 0.252\n",
            "Epoch: 10, Batch:  1400, loss: 0.250\n",
            "Epoch: 10, Batch:  1600, loss: 0.255\n",
            "Epoch: 10, Batch:  1800, loss: 0.241\n",
            "Epoch: 10, Batch:  2000, loss: 0.244\n",
            "Epoch: 11, Batch:   200, loss: 0.228\n",
            "Epoch: 11, Batch:   400, loss: 0.240\n",
            "Epoch: 11, Batch:   600, loss: 0.245\n",
            "Epoch: 11, Batch:   800, loss: 0.228\n",
            "Epoch: 11, Batch:  1000, loss: 0.239\n",
            "Epoch: 11, Batch:  1200, loss: 0.232\n",
            "Epoch: 11, Batch:  1400, loss: 0.235\n",
            "Epoch: 11, Batch:  1600, loss: 0.247\n",
            "Epoch: 11, Batch:  1800, loss: 0.255\n",
            "Epoch: 11, Batch:  2000, loss: 0.259\n",
            "Epoch: 12, Batch:   200, loss: 0.234\n",
            "Epoch: 12, Batch:   400, loss: 0.216\n",
            "Epoch: 12, Batch:   600, loss: 0.232\n",
            "Epoch: 12, Batch:   800, loss: 0.229\n",
            "Epoch: 12, Batch:  1000, loss: 0.233\n",
            "Epoch: 12, Batch:  1200, loss: 0.253\n",
            "Epoch: 12, Batch:  1400, loss: 0.229\n",
            "Epoch: 12, Batch:  1600, loss: 0.225\n",
            "Epoch: 12, Batch:  1800, loss: 0.236\n",
            "Epoch: 12, Batch:  2000, loss: 0.262\n",
            "Epoch: 13, Batch:   200, loss: 0.221\n",
            "Epoch: 13, Batch:   400, loss: 0.222\n",
            "Epoch: 13, Batch:   600, loss: 0.218\n",
            "Epoch: 13, Batch:   800, loss: 0.229\n",
            "Epoch: 13, Batch:  1000, loss: 0.235\n",
            "Epoch: 13, Batch:  1200, loss: 0.247\n",
            "Epoch: 13, Batch:  1400, loss: 0.230\n",
            "Epoch: 13, Batch:  1600, loss: 0.243\n",
            "Epoch: 13, Batch:  1800, loss: 0.244\n",
            "Epoch: 13, Batch:  2000, loss: 0.233\n",
            "Epoch: 14, Batch:   200, loss: 0.214\n",
            "Epoch: 14, Batch:   400, loss: 0.245\n",
            "Epoch: 14, Batch:   600, loss: 0.231\n",
            "Epoch: 14, Batch:   800, loss: 0.220\n",
            "Epoch: 14, Batch:  1000, loss: 0.224\n",
            "Epoch: 14, Batch:  1200, loss: 0.219\n",
            "Epoch: 14, Batch:  1400, loss: 0.244\n",
            "Epoch: 14, Batch:  1600, loss: 0.233\n",
            "Epoch: 14, Batch:  1800, loss: 0.227\n",
            "Epoch: 14, Batch:  2000, loss: 0.220\n",
            "Epoch: 15, Batch:   200, loss: 0.209\n",
            "Epoch: 15, Batch:   400, loss: 0.232\n",
            "Epoch: 15, Batch:   600, loss: 0.220\n",
            "Epoch: 15, Batch:   800, loss: 0.223\n",
            "Epoch: 15, Batch:  1000, loss: 0.217\n",
            "Epoch: 15, Batch:  1200, loss: 0.231\n",
            "Epoch: 15, Batch:  1400, loss: 0.245\n",
            "Epoch: 15, Batch:  1600, loss: 0.230\n",
            "Epoch: 15, Batch:  1800, loss: 0.224\n",
            "Epoch: 15, Batch:  2000, loss: 0.227\n",
            "Epoch: 16, Batch:   200, loss: 0.210\n",
            "Epoch: 16, Batch:   400, loss: 0.216\n",
            "Epoch: 16, Batch:   600, loss: 0.209\n",
            "Epoch: 16, Batch:   800, loss: 0.231\n",
            "Epoch: 16, Batch:  1000, loss: 0.224\n",
            "Epoch: 16, Batch:  1200, loss: 0.222\n",
            "Epoch: 16, Batch:  1400, loss: 0.229\n",
            "Epoch: 16, Batch:  1600, loss: 0.237\n",
            "Epoch: 16, Batch:  1800, loss: 0.244\n",
            "Epoch: 16, Batch:  2000, loss: 0.219\n",
            "Epoch: 17, Batch:   200, loss: 0.222\n",
            "Epoch: 17, Batch:   400, loss: 0.220\n",
            "Epoch: 17, Batch:   600, loss: 0.212\n",
            "Epoch: 17, Batch:   800, loss: 0.217\n",
            "Epoch: 17, Batch:  1000, loss: 0.216\n",
            "Epoch: 17, Batch:  1200, loss: 0.219\n",
            "Epoch: 17, Batch:  1400, loss: 0.230\n",
            "Epoch: 17, Batch:  1600, loss: 0.222\n",
            "Epoch: 17, Batch:  1800, loss: 0.220\n",
            "Epoch: 17, Batch:  2000, loss: 0.218\n",
            "Epoch: 18, Batch:   200, loss: 0.200\n",
            "Epoch: 18, Batch:   400, loss: 0.198\n",
            "Epoch: 18, Batch:   600, loss: 0.220\n",
            "Epoch: 18, Batch:   800, loss: 0.224\n",
            "Epoch: 18, Batch:  1000, loss: 0.222\n",
            "Epoch: 18, Batch:  1200, loss: 0.209\n",
            "Epoch: 18, Batch:  1400, loss: 0.219\n",
            "Epoch: 18, Batch:  1600, loss: 0.224\n",
            "Epoch: 18, Batch:  1800, loss: 0.233\n",
            "Epoch: 18, Batch:  2000, loss: 0.219\n",
            "Epoch: 19, Batch:   200, loss: 0.210\n",
            "Epoch: 19, Batch:   400, loss: 0.214\n",
            "Epoch: 19, Batch:   600, loss: 0.194\n",
            "Epoch: 19, Batch:   800, loss: 0.198\n",
            "Epoch: 19, Batch:  1000, loss: 0.224\n",
            "Epoch: 19, Batch:  1200, loss: 0.215\n",
            "Epoch: 19, Batch:  1400, loss: 0.208\n",
            "Epoch: 19, Batch:  1600, loss: 0.231\n",
            "Epoch: 19, Batch:  1800, loss: 0.216\n",
            "Epoch: 19, Batch:  2000, loss: 0.229\n",
            "Epoch: 20, Batch:   200, loss: 0.203\n",
            "Epoch: 20, Batch:   400, loss: 0.204\n",
            "Epoch: 20, Batch:   600, loss: 0.213\n",
            "Epoch: 20, Batch:   800, loss: 0.197\n",
            "Epoch: 20, Batch:  1000, loss: 0.218\n",
            "Epoch: 20, Batch:  1200, loss: 0.222\n",
            "Epoch: 20, Batch:  1400, loss: 0.202\n",
            "Epoch: 20, Batch:  1600, loss: 0.223\n",
            "Epoch: 20, Batch:  1800, loss: 0.209\n",
            "Epoch: 20, Batch:  2000, loss: 0.216\n",
            "Epoch: 21, Batch:   200, loss: 0.198\n",
            "Epoch: 21, Batch:   400, loss: 0.218\n",
            "Epoch: 21, Batch:   600, loss: 0.204\n",
            "Epoch: 21, Batch:   800, loss: 0.217\n",
            "Epoch: 21, Batch:  1000, loss: 0.206\n",
            "Epoch: 21, Batch:  1200, loss: 0.207\n",
            "Epoch: 21, Batch:  1400, loss: 0.213\n",
            "Epoch: 21, Batch:  1600, loss: 0.222\n",
            "Epoch: 21, Batch:  1800, loss: 0.206\n",
            "Epoch: 21, Batch:  2000, loss: 0.226\n",
            "Epoch: 22, Batch:   200, loss: 0.204\n",
            "Epoch: 22, Batch:   400, loss: 0.192\n",
            "Epoch: 22, Batch:   600, loss: 0.199\n",
            "Epoch: 22, Batch:   800, loss: 0.203\n",
            "Epoch: 22, Batch:  1000, loss: 0.211\n",
            "Epoch: 22, Batch:  1200, loss: 0.214\n",
            "Epoch: 22, Batch:  1400, loss: 0.202\n",
            "Epoch: 22, Batch:  1600, loss: 0.228\n",
            "Epoch: 22, Batch:  1800, loss: 0.220\n",
            "Epoch: 22, Batch:  2000, loss: 0.200\n",
            "Epoch: 23, Batch:   200, loss: 0.198\n",
            "Epoch: 23, Batch:   400, loss: 0.208\n",
            "Epoch: 23, Batch:   600, loss: 0.216\n",
            "Epoch: 23, Batch:   800, loss: 0.201\n",
            "Epoch: 23, Batch:  1000, loss: 0.218\n",
            "Epoch: 23, Batch:  1200, loss: 0.199\n",
            "Epoch: 23, Batch:  1400, loss: 0.210\n",
            "Epoch: 23, Batch:  1600, loss: 0.205\n",
            "Epoch: 23, Batch:  1800, loss: 0.210\n",
            "Epoch: 23, Batch:  2000, loss: 0.200\n",
            "Epoch: 24, Batch:   200, loss: 0.202\n",
            "Epoch: 24, Batch:   400, loss: 0.190\n",
            "Epoch: 24, Batch:   600, loss: 0.187\n",
            "Epoch: 24, Batch:   800, loss: 0.196\n",
            "Epoch: 24, Batch:  1000, loss: 0.203\n",
            "Epoch: 24, Batch:  1200, loss: 0.216\n",
            "Epoch: 24, Batch:  1400, loss: 0.217\n",
            "Epoch: 24, Batch:  1600, loss: 0.193\n",
            "Epoch: 24, Batch:  1800, loss: 0.198\n",
            "Epoch: 24, Batch:  2000, loss: 0.206\n",
            "Epoch: 25, Batch:   200, loss: 0.198\n",
            "Epoch: 25, Batch:   400, loss: 0.196\n",
            "Epoch: 25, Batch:   600, loss: 0.194\n",
            "Epoch: 25, Batch:   800, loss: 0.193\n",
            "Epoch: 25, Batch:  1000, loss: 0.209\n",
            "Epoch: 25, Batch:  1200, loss: 0.200\n",
            "Epoch: 25, Batch:  1400, loss: 0.214\n",
            "Epoch: 25, Batch:  1600, loss: 0.205\n",
            "Epoch: 25, Batch:  1800, loss: 0.202\n",
            "Epoch: 25, Batch:  2000, loss: 0.206\n",
            "Finished Training\n"
          ],
          "name": "stdout"
        }
      ]
    },
    {
      "cell_type": "markdown",
      "metadata": {
        "id": "RREjngOC_X2F"
      },
      "source": [
        "##3.2.6 Test Accuracy\n",
        "Let us look at how the network performs on the test dataset.  \n",
        "Report your accuracy in your report.\n",
        "\n"
      ]
    },
    {
      "cell_type": "code",
      "metadata": {
        "id": "QTyWZj2R_X2F",
        "outputId": "b01d97dd-3b8e-46ba-fc18-7120856a51bd",
        "colab": {
          "base_uri": "https://localhost:8080/",
          "height": 34
        }
      },
      "source": [
        "correct = 0\n",
        "total = 0\n",
        "net.eval()\n",
        "with torch.no_grad():\n",
        "    for data in testloader:\n",
        "        images, labels = data\n",
        "        outputs = net(images)\n",
        "        _, predicted = torch.max(outputs.data, 1)\n",
        "        total += labels.size(0)\n",
        "        correct += (predicted == labels).sum().item()\n",
        "\n",
        "#TODO : Report this accuracy in your report.\n",
        "\n",
        "print('Accuracy of the network on the 10000 test images: %d %%' % (\n",
        "    100 * correct / total))"
      ],
      "execution_count": 55,
      "outputs": [
        {
          "output_type": "stream",
          "text": [
            "Accuracy of the network on the 10000 test images: 89 %\n"
          ],
          "name": "stdout"
        }
      ]
    },
    {
      "cell_type": "markdown",
      "metadata": {
        "id": "FCCVNEjV_X2G"
      },
      "source": [
        "##3.2.7 Per Class accuracy\n",
        "Now we see the test accuracy for each class in the test dataset.  \n",
        "Report these accuracies in your report. Also identify the problematic classes.  \n",
        "Can you explain why these classes have significantly lower accuracies compared to other classes? Record your responses in your LaTeX file.\n"
      ]
    },
    {
      "cell_type": "code",
      "metadata": {
        "id": "CO9h7Zbd_X2H",
        "outputId": "14dcde26-40cb-4ab1-9fd3-0e71dfeb1aff",
        "colab": {
          "base_uri": "https://localhost:8080/",
          "height": 194
        }
      },
      "source": [
        "class_correct = list(0. for i in range(10))\n",
        "class_total = list(0. for i in range(10))\n",
        "with torch.no_grad():\n",
        "    for data in testloader:\n",
        "        images, labels = data\n",
        "        outputs = net(images)\n",
        "        _, predicted = torch.max(outputs, 1)\n",
        "        c = (predicted == labels).squeeze()\n",
        "        for i in range(4):\n",
        "            label = labels[i]\n",
        "            class_correct[label] += c[i].item()\n",
        "            class_total[label] += 1\n",
        "\n",
        "\n",
        "for i in range(10):\n",
        "    print('Accuracy of %5s : %2d %%' % (\n",
        "        classes[i], 100 * class_correct[i] / class_total[i]))"
      ],
      "execution_count": 56,
      "outputs": [
        {
          "output_type": "stream",
          "text": [
            "Accuracy of T-shirt/top : 88 %\n",
            "Accuracy of Trouser : 99 %\n",
            "Accuracy of Pullover : 85 %\n",
            "Accuracy of Dress : 90 %\n",
            "Accuracy of  Coat : 82 %\n",
            "Accuracy of Sandal : 96 %\n",
            "Accuracy of Shirt : 74 %\n",
            "Accuracy of Sneaker : 96 %\n",
            "Accuracy of   Bag : 98 %\n",
            "Accuracy of Ankle boot : 96 %\n"
          ],
          "name": "stdout"
        }
      ]
    },
    {
      "cell_type": "markdown",
      "metadata": {
        "id": "hnvvXuO2z-kt"
      },
      "source": [
        "\n",
        "# Turning it in\n",
        "\n",
        "**This notebook will not be autograded, so no need to comment out code outside of functions.**\n",
        "\n",
        "1. Download this notebook as a `hw4.py` file with the functions implemented and the sandbox code commented out\n",
        "  - go to \"File -> Download .py\"\n",
        "  \n",
        "2. Submit `hw4.py` file to Gradescope (you can do this as many times as you'd like before the deadline)"
      ]
    }
  ]
}