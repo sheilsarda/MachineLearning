{
  "nbformat": 4,
  "nbformat_minor": 0,
  "metadata": {
    "colab": {
      "name": "Reinforcement Learning.ipynb",
      "provenance": [],
      "collapsed_sections": [],
      "toc_visible": true
    },
    "kernelspec": {
      "name": "python3",
      "display_name": "Python 3"
    }
  },
  "cells": [
    {
      "cell_type": "markdown",
      "metadata": {
        "id": "1Ge54OvP9l5p"
      },
      "source": [
        "# **CIS 520: Machine Learning, Fall 2020**\n",
        "# **Week 13, Worksheet 1**\n",
        "## Reinforcement Learning\n",
        "\n",
        "\n",
        "- **Content Creators:** Mihir Parmar\n",
        "- **Content Reviewers:**  Shaozhe Lyu, Michael Zhou"
      ]
    },
    {
      "cell_type": "markdown",
      "metadata": {
        "id": "LPWrkSIF-K3i"
      },
      "source": [
        "Learning Objectives:\n",
        "\n",
        "* Understanding OpenAI's Gym Environment\n",
        "* Understanding Q-Learning and Sarsa algorithms\n",
        "* Understanding the differences between off-policy and on-policy algorithms"
      ]
    },
    {
      "cell_type": "markdown",
      "metadata": {
        "id": "W-vSb2Bz-o9P"
      },
      "source": [
        "## 1. OpenAI's Gym\n",
        "\n",
        "Gym is a toolkit for developing and comparing reinforcement learning algorithms. It makes no assumptions about the structure of your agent, and is compatible with any numerical computation library, such as TensorFlow or PyTorch.\n",
        "\n",
        "**We strongly recommend looking over the [\"Getting Started\" documentation](https://gym.openai.com/docs/) .**"
      ]
    },
    {
      "cell_type": "markdown",
      "metadata": {
        "id": "oDT44Bm2AGav"
      },
      "source": [
        "## Exercise 1: \n",
        "1. List at least 5 different environments available in the OpenAI gym suite."
      ]
    },
    {
      "cell_type": "markdown",
      "metadata": {
        "id": "AEA89zztAVC7"
      },
      "source": [
        "## Installing Dependencies and Imports"
      ]
    },
    {
      "cell_type": "markdown",
      "metadata": {
        "id": "wgJ3wsGr-xgz"
      },
      "source": [
        "Let's install gym and some other things to render the environments in Colab."
      ]
    },
    {
      "cell_type": "code",
      "metadata": {
        "id": "Env2nbD5-lPB"
      },
      "source": [
        "!pip install gym pyvirtualdisplay > /dev/null 2>&1\n",
        "!apt-get install -y xvfb python-opengl ffmpeg > /dev/null 2>&1\n",
        "!pip install box2d-py gym[box2d] > /dev/null 2>&1\n",
        "!pip install piglet > /dev/null 2>&1"
      ],
      "execution_count": null,
      "outputs": []
    },
    {
      "cell_type": "code",
      "metadata": {
        "id": "t_-swrNs_KpD"
      },
      "source": [
        "\"\"\"\n",
        "Imports\n",
        "\"\"\"\n",
        "\n",
        "import gym\n",
        "import numpy as np\n",
        "import math\n",
        "import matplotlib.pyplot as plt\n",
        "from collections import deque\n",
        "# import tensorflow as tf\n",
        "# from tensorflow import keras\n",
        "import random\n",
        "from gym import wrappers\n",
        "\n",
        "from pyvirtualdisplay import Display\n",
        "display = Display(visible=0, size=(1024, 768))\n",
        "display.start()\n",
        "import os\n",
        "\n",
        "import matplotlib.animation\n",
        "import numpy as np\n",
        "from IPython.display import HTML\n",
        "\n",
        "# Note, you may get a few warnings regarding Tensorflow and xdpyinfo, these are to be expected"
      ],
      "execution_count": null,
      "outputs": []
    },
    {
      "cell_type": "markdown",
      "metadata": {
        "id": "dZaJtO4EAkgU"
      },
      "source": [
        "## Q-learning vs SARSA in grid worlds\n",
        "\n",
        "Firstly, let's gain a bit more intuition for the algorithms we're dealing with by studying them in very simple environments. \n",
        "\n",
        "Grid-worlds are simple environments in which an agent navigates a grid, typically aiming to navigate towards goal locations and away from threats. The state variable at its simplest can be a tuple with the agent's location on the grid. \n",
        "\n",
        "A more detailed grid world would include the state of the entire grid, like a top-down view of the environment, given as a matrix of $M\\times N$ cells.\n",
        "\n",
        "Here we'll use on- and off-policy TD learning to train an agent to navigate a simple grid world.\n",
        "\n",
        "This example is based on Example 6.6 of Sutton and Barto. The 'Cliffs' environment implementation comes from [github.com/podondra/gym-gridworlds](https://www.github.com/podondra/gym-gridworlds)"
      ]
    },
    {
      "cell_type": "markdown",
      "metadata": {
        "id": "-aUj9-6UA1eT"
      },
      "source": [
        "![alt text](https://drive.google.com/uc?id=114P8TIhH4T5hZmoGRhJhBvHLaTZ-ZmWX)\n",
        "\n",
        "The environment works as follows. Reward is -1 on all transition except those into region that is cliff. Stepping into this region incurs a reward of -100 and sends the agent instantly back to the start. The trial is over when the agent reachs the goal location in the opposite bottom corner."
      ]
    },
    {
      "cell_type": "code",
      "metadata": {
        "id": "skUcT6G6A-TU",
        "colab": {
          "base_uri": "https://localhost:8080/"
        },
        "outputId": "36b4da37-b84f-4647-e560-f8ce7e20b908"
      },
      "source": [
        "!git clone https://github.com/podondra/gym-gridworlds.git\n",
        "!pip install gym-gridworlds\n",
        "\n",
        "import gym_gridworlds"
      ],
      "execution_count": null,
      "outputs": [
        {
          "output_type": "stream",
          "text": [
            "Cloning into 'gym-gridworlds'...\n",
            "remote: Enumerating objects: 97, done.\u001b[K\n",
            "remote: Total 97 (delta 0), reused 0 (delta 0), pack-reused 97\u001b[K\n",
            "Unpacking objects: 100% (97/97), done.\n",
            "Collecting gym-gridworlds\n",
            "  Downloading https://files.pythonhosted.org/packages/00/6a/62b65640733b10bcffa683c2fe28d8adc41f8a6f82c4954aad3660a8da6e/gym_gridworlds-0.0.2-py3-none-any.whl\n",
            "Requirement already satisfied: numpy in /usr/local/lib/python3.6/dist-packages (from gym-gridworlds) (1.18.5)\n",
            "Requirement already satisfied: gym in /usr/local/lib/python3.6/dist-packages (from gym-gridworlds) (0.17.3)\n",
            "Requirement already satisfied: cloudpickle<1.7.0,>=1.2.0 in /usr/local/lib/python3.6/dist-packages (from gym->gym-gridworlds) (1.3.0)\n",
            "Requirement already satisfied: pyglet<=1.5.0,>=1.4.0 in /usr/local/lib/python3.6/dist-packages (from gym->gym-gridworlds) (1.5.0)\n",
            "Requirement already satisfied: scipy in /usr/local/lib/python3.6/dist-packages (from gym->gym-gridworlds) (1.4.1)\n",
            "Requirement already satisfied: future in /usr/local/lib/python3.6/dist-packages (from pyglet<=1.5.0,>=1.4.0->gym->gym-gridworlds) (0.16.0)\n",
            "Installing collected packages: gym-gridworlds\n",
            "Successfully installed gym-gridworlds-0.0.2\n"
          ],
          "name": "stdout"
        }
      ]
    },
    {
      "cell_type": "code",
      "metadata": {
        "id": "VeAKzzNMCMTW"
      },
      "source": [
        "env = gym.make('Cliff-v0')"
      ],
      "execution_count": null,
      "outputs": []
    },
    {
      "cell_type": "code",
      "metadata": {
        "id": "vzCZYpRbCN0e",
        "colab": {
          "base_uri": "https://localhost:8080/"
        },
        "outputId": "aaae43a5-b499-4762-f1a5-8dad6dcc988d"
      },
      "source": [
        "print('Number of actions:', env.action_space)\n",
        "print('Observation space:', env.observation_space)"
      ],
      "execution_count": null,
      "outputs": [
        {
          "output_type": "stream",
          "text": [
            "Number of actions: Discrete(4)\n",
            "Observation space: Tuple(Discrete(4), Discrete(12))\n"
          ],
          "name": "stdout"
        }
      ]
    },
    {
      "cell_type": "markdown",
      "metadata": {
        "id": "0YPCTRo5EhhH"
      },
      "source": [
        "## Exercise 2: \n",
        "1. What do each of the above two variables mean?"
      ]
    },
    {
      "cell_type": "markdown",
      "metadata": {
        "id": "c-cQ82okCOb2"
      },
      "source": [
        "Recall that the Q-learning and SARSA algorithms are temporal difference (TD) algorithms. They update their estimate of value based on the difference in a current estimate of value and a once-unrolled-into-the-future estimate of value (which we imagine will be slightly more accurate, since we _know_ what the reward is at the next time step).\n",
        "\n",
        "The SARSA algorithm is on-policy TD learning:\n",
        "$$\n",
        "Q(s_t,a_t) \\leftarrow Q(s_t,a_t) + \\alpha(r_t + \\gamma Q(s_{t+1},a_{t+1}) - Q(s_t, a_t))\n",
        "$$\n",
        "while Q-learning is off-policy:\n",
        "$$\n",
        "Q(s_t,a_t) \\leftarrow Q(s_t,a_t) + \\alpha(r_t + \\gamma \\max_a Q(s_{t+1},a) - Q(s_t, a_t))\n",
        "$$"
      ]
    },
    {
      "cell_type": "code",
      "metadata": {
        "id": "r13utH4yCVo7"
      },
      "source": [
        "#Our model parameters\n",
        "total_episodes = 500\n",
        "K = 10\n",
        "\n",
        "#Learning rate\n",
        "alpha = 0.1\n",
        "#Discount rate\n",
        "gamma = 0.95\n",
        "#Exploration proportion\n",
        "epsilon = 0.05\n",
        "\n",
        "ny = 4\n",
        "nx = 12\n",
        "n_actions = env.action_space.n"
      ],
      "execution_count": null,
      "outputs": []
    },
    {
      "cell_type": "markdown",
      "metadata": {
        "id": "76XavsHvCYUL"
      },
      "source": [
        "It's quite straightforward to train an agent with either algorithm to solve this Cliff environment.\n",
        "\n",
        "First, we'll define our policies, based on our estimated Q-values:"
      ]
    },
    {
      "cell_type": "code",
      "metadata": {
        "id": "RkguLlUJCZCw"
      },
      "source": [
        "#SARSA learning (on-policy TD learning)\n",
        "def on_policy(Q, s):\n",
        "  return np.argmax(Q[s[0], s[1], :])\n",
        "\n",
        "#Q-learning (off-policy TD learning)\n",
        "#Epsilon greedy\n",
        "def off_policy(Q, s, env, epsilon):\n",
        "  if np.random.random() < epsilon:\n",
        "    return env.action_space.sample()\n",
        "  else:\n",
        "    return np.argmax(Q[s[0], s[1], :])"
      ],
      "execution_count": null,
      "outputs": []
    },
    {
      "cell_type": "markdown",
      "metadata": {
        "id": "Vj0rMGJnCcZf"
      },
      "source": [
        "Now we'll define a simple training loop."
      ]
    },
    {
      "cell_type": "code",
      "metadata": {
        "id": "CF6dH_3PCdWW"
      },
      "source": [
        "def train(env, policy, total_episodes = 500, run_test = False, test_freq = 10):\n",
        "  #Set the agent at starting position\n",
        "  s = env.reset()\n",
        "  #Initialize Q values\n",
        "  Q = np.zeros((ny,nx,n_actions))\n",
        "  cumulative_reward = 0\n",
        "  n_episodes = 0\n",
        "  episode_rewards = []\n",
        "  test_rewards = []\n",
        "  #Here an episode only ends once we reach the goal location. \n",
        "  #So we're training for 500 successful episodes' worth of experience.\n",
        "  while n_episodes < total_episodes:\n",
        "    #Select action given current state\n",
        "    action = policy(Q, s)\n",
        "    prev_s = s\n",
        "    #Step the environment forward\n",
        "    s, reward, done, _ = env.step(action)\n",
        "    #Now we have our current state, action, next state and reward\n",
        "    #So we can take our updates\n",
        "    future_reward = reward + gamma*np.max(Q[s[0], s[1], :])\n",
        "    expected_future_reward = Q[prev_s[0], prev_s[1], action]\n",
        "    Q[prev_s[0], prev_s[1], action] += alpha*(future_reward-expected_future_reward)\n",
        "    cumulative_reward += reward\n",
        "    #Reset the agent if we're done. Track rewards\n",
        "    if done:\n",
        "      if run_test and n_episodes%test_freq == 0:\n",
        "        test_r = test(env, on_policy, Q)\n",
        "        test_rewards.append([n_episodes, test_r])\n",
        "      s = env.reset()\n",
        "      episode_rewards.append(cumulative_reward)\n",
        "      n_episodes += 1\n",
        "      cumulative_reward = 0\n",
        "\n",
        "  return episode_rewards, Q"
      ],
      "execution_count": null,
      "outputs": []
    },
    {
      "cell_type": "markdown",
      "metadata": {
        "id": "MK-imJIzCkRH"
      },
      "source": [
        "We run this a number of times. This will converge quite quickly since it's such a low dimensional state space, action space, and policy."
      ]
    },
    {
      "cell_type": "code",
      "metadata": {
        "id": "PKa5E-z4CmKG"
      },
      "source": [
        "sarsa_rewards = np.zeros((K, total_episodes))\n",
        "qlearning_rewards = np.zeros((K, total_episodes))\n",
        "qpolicy = lambda q,s: off_policy(q, s, env, epsilon)\n",
        "\n",
        "for idx in range(K):\n",
        "  #Train with SARSA\n",
        "  rewards, Q_sarsa = train(env, on_policy, total_episodes)\n",
        "  sarsa_rewards[idx,:] = rewards\n",
        "  #Train with Q-learning\n",
        "  rewards, Q_q = train(env, qpolicy, total_episodes)\n",
        "  qlearning_rewards[idx,:] = rewards"
      ],
      "execution_count": null,
      "outputs": []
    },
    {
      "cell_type": "code",
      "metadata": {
        "id": "hluDiMuNCoWL",
        "colab": {
          "base_uri": "https://localhost:8080/",
          "height": 283
        },
        "outputId": "b2e7e748-8ea0-4ccb-9d8b-20297c033ad1"
      },
      "source": [
        "plt.plot(np.mean(sarsa_rewards[:,10:], 0).T)\n",
        "plt.plot(np.mean(qlearning_rewards[:,10:], 0).T)\n",
        "plt.legend(['Sarsa', 'Q-learning'])\n",
        "plt.xlabel('Episodes')\n",
        "plt.ylabel('Mean reward');\n",
        "plt.ylim([-200,0]);"
      ],
      "execution_count": null,
      "outputs": [
        {
          "output_type": "display_data",
          "data": {
            "image/png": "[encoded data removed]",
            "text/plain": [
              "<Figure size 432x288 with 1 Axes>"
            ]
          },
          "metadata": {
            "tags": [],
            "needs_background": "light"
          }
        }
      ]
    },
    {
      "cell_type": "code",
      "metadata": {
        "id": "TnKHU1pQlOCc"
      },
      "source": [
        "def str_policy(policy):\n",
        "  string = ''\n",
        "  #char = {0:up, 1:left, 2:down, 3:right}\n",
        "  #Unicode renders inconsistent sizes in some browsers...\n",
        "  #char = {0:u\"\\u25B2\", 1:u\"\\u25B8\", 2:u\"\\u25BC\", 3:u\"\\u25C0\"}\n",
        "  char = {0:\"U\", 1:\"R\", 2:\"D\", 3:\"L\"}\n",
        "  for row in policy:\n",
        "    string += ' '.join([char[action] for action in row]) + '\\n'\n",
        "  return string"
      ],
      "execution_count": null,
      "outputs": []
    },
    {
      "cell_type": "code",
      "metadata": {
        "id": "PscwCBdcCq7I",
        "colab": {
          "base_uri": "https://localhost:8080/"
        },
        "outputId": "aa95482f-892a-42a9-a75a-12eaa904a87e"
      },
      "source": [
        "#Plot the policies...\n",
        "sarsa_policy = np.argmax(Q_sarsa, axis = 2)\n",
        "print('SARSA policy:\\n'+str_policy(sarsa_policy))\n",
        "q_policy = np.argmax(Q_q, axis = 2)\n",
        "print('Q-learning policy:\\n'+str_policy(q_policy))"
      ],
      "execution_count": null,
      "outputs": [
        {
          "output_type": "stream",
          "text": [
            "SARSA policy:\n",
            "R L R R L U U R R R D D\n",
            "U U R R R R R R R R D D\n",
            "R R R R R R R R R R R D\n",
            "U U U U U U U U U U U U\n",
            "\n",
            "Q-learning policy:\n",
            "R U L U R R R R D U R D\n",
            "R U R L R L R R R D D D\n",
            "R R R R R R R R R R R D\n",
            "U U U U U U U U U U U U\n",
            "\n"
          ],
          "name": "stdout"
        }
      ]
    },
    {
      "cell_type": "code",
      "metadata": {
        "id": "_d0l4f82C6DE",
        "colab": {
          "base_uri": "https://localhost:8080/",
          "height": 293
        },
        "outputId": "bd79aac4-1525-4414-b799-238d40d7ef35"
      },
      "source": [
        "#We can plot the q values too\n",
        "\n",
        "#For Q-learning\n",
        "fig, axes = plt.subplots(2,2, figsize = (10,5), sharex = True, sharey = True)\n",
        "axes[0,0].imshow(Q_q[:,:,0], vmin=-50, vmax=0)\n",
        "axes[0,0].set_title('Up')\n",
        "axes[0,1].imshow(Q_q[:,:,1], vmin=-50, vmax=0)\n",
        "axes[0,1].set_title('Left')\n",
        "axes[1,0].imshow(Q_q[:,:,2], vmin=-50, vmax=0)\n",
        "axes[1,0].set_title('Down')\n",
        "im = axes[1,1].imshow(Q_q[:,:,3], vmin=-50, vmax=0)\n",
        "axes[1,1].set_title('Right');\n",
        "\n",
        "fig.subplots_adjust(right=0.8)\n",
        "cbar_ax = fig.add_axes([0.85, 0.15, 0.05, 0.7])\n",
        "fig.colorbar(im, cax=cbar_ax);"
      ],
      "execution_count": null,
      "outputs": [
        {
          "output_type": "display_data",
          "data": {
            "image/png": "[encoded data removed]",
            "text/plain": [
              "<Figure size 720x360 with 5 Axes>"
            ]
          },
          "metadata": {
            "tags": [],
            "needs_background": "light"
          }
        }
      ]
    },
    {
      "cell_type": "code",
      "metadata": {
        "id": "Jz1zbbOhJsOK",
        "colab": {
          "base_uri": "https://localhost:8080/",
          "height": 293
        },
        "outputId": "7afc8d8c-19ba-47ae-9d83-2e5d2a58c0a2"
      },
      "source": [
        "#For SARSA\n",
        "fig, axes = plt.subplots(2,2, figsize = (10,5), sharex = True, sharey = True)\n",
        "axes[0,0].imshow(Q_sarsa[:,:,0], vmin=-50, vmax=0)\n",
        "axes[0,0].set_title('Up')\n",
        "axes[0,1].imshow(Q_sarsa[:,:,1], vmin=-50, vmax=0)\n",
        "axes[0,1].set_title('Left')\n",
        "axes[1,0].imshow(Q_sarsa[:,:,2], vmin=-50, vmax=0)\n",
        "axes[1,0].set_title('Down')\n",
        "im = axes[1,1].imshow(Q_sarsa[:,:,3], vmin=-50, vmax=0)\n",
        "axes[1,1].set_title('Right');\n",
        "\n",
        "fig.subplots_adjust(right=0.8)\n",
        "cbar_ax = fig.add_axes([0.85, 0.15, 0.05, 0.7])\n",
        "fig.colorbar(im, cax=cbar_ax);"
      ],
      "execution_count": null,
      "outputs": [
        {
          "output_type": "display_data",
          "data": {
            "image/png": "[encoded data removed]",
            "text/plain": [
              "<Figure size 720x360 with 5 Axes>"
            ]
          },
          "metadata": {
            "tags": [],
            "needs_background": "light"
          }
        }
      ]
    },
    {
      "cell_type": "code",
      "metadata": {
        "id": "I_tgLtYuC78-"
      },
      "source": [
        "env.close()"
      ],
      "execution_count": null,
      "outputs": []
    },
    {
      "cell_type": "markdown",
      "metadata": {
        "id": "rYkqFRN-JN9z"
      },
      "source": [
        "## Exercise 3: \n",
        "1. Vary each of the parameters in {number of episodes, discount rate, exloration factor} and observe how the performance/learnt policy changes."
      ]
    },
    {
      "cell_type": "markdown",
      "metadata": {
        "id": "8BrrxclaKMFD"
      },
      "source": [
        "References:\n",
        "* Towards Data Science: https://towardsdatascience.com/reinforcement-learning-cliff-walking-implementation-e40ce98418d4\n",
        "* Neuromatch Academy\n",
        "* CIS 522 Course material"
      ]
    }
  ]
}