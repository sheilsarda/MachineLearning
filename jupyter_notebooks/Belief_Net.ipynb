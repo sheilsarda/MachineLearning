{
  "nbformat": 4,
  "nbformat_minor": 0,
  "metadata": {
    "colab": {
      "name": "Belief Net.ipynb",
      "provenance": [],
      "collapsed_sections": []
    },
    "kernelspec": {
      "name": "python3",
      "display_name": "Python 3"
    }
  },
  "cells": [
    {
      "cell_type": "markdown",
      "metadata": {
        "id": "yFM2nNiR3zLE"
      },
      "source": [
        "# **CIS 520: Machine Learning, Fall 2020**\n",
        "# **Week 11, Worksheet 2**\n",
        "## **Belief Net**\n",
        "\n",
        "\n",
        "- **Content Creator:** Yide Zhao\n",
        "- **Content Checkers:** Gautam Ramesh, Yang Yan\n",
        "- This worksheet is partially **adapted** from: https://en.wikipedia.org/wiki/Bayesian_network"
      ]
    },
    {
      "cell_type": "markdown",
      "metadata": {
        "id": "EOYZLTKogBIG"
      },
      "source": [
        "# Bayesian Belief Network\n",
        "Let work through an Belief Net together to see how it works. "
      ]
    },
    {
      "cell_type": "markdown",
      "metadata": {
        "id": "F8jtc3d8gmfl"
      },
      "source": [
        "## Example\n",
        "Two events can cause grass to be wet: an active sprinkler or rain. Rain has a direct effect on the use of the sprinkler (namely that when it rains, the sprinkler usually is not active). This situation can be modeled with a Bayesian network (shown in the following). Each variable has two possible values, T (for true) and F (for false).\n",
        "\n",
        "<p align=\"center\">\n",
        "<img src=\"https://github.com/yidezhao/cis520/blob/master/Bnet.png?raw=true\" width = \"400\"/>\n",
        "<p/>\n",
        "\n"
      ]
    },
    {
      "cell_type": "markdown",
      "metadata": {
        "id": "7Mjjn32ypkJU"
      },
      "source": [
        "The joint probability function is:\n",
        "$$\n",
        "\\operatorname{Pr}(G, S, R)=\\operatorname{Pr}(G \\mid S, R) \\operatorname{Pr}(S \\mid R) \\operatorname{Pr}(R)\n",
        "$$\n",
        "where G = \"Grass wet (true/false)\", S = \"Sprinkler turned on (true/false)\", and R = \"Raining (true/false)\"."
      ]
    },
    {
      "cell_type": "markdown",
      "metadata": {
        "id": "9my3wDpnp-gy"
      },
      "source": [
        "Using the expansion for the joint probability function $\\operatorname{Pr}(G, S, R)$ and the conditional probabilities from the conditional probability tables (CPTs) stated in the diagram, one can evaluate each term in the sums in the numerator and denominator. For example,\n",
        "$$\n",
        "\\begin{aligned}\n",
        "\\operatorname{Pr}(G=T, S=T, R=T) &=\\operatorname{Pr}(G=T \\mid S=T, R=T) \\operatorname{Pr}(S=T \\mid R=T) \\operatorname{Pr}(R=T) \\\\\n",
        "&=0.99 \\times 0.01 \\times 0.2 \\\\\n",
        "&=0.00198\n",
        "\\end{aligned}\n",
        "$$"
      ]
    },
    {
      "cell_type": "markdown",
      "metadata": {
        "id": "FeRjxdMpq3FU"
      },
      "source": [
        "## Exercise 1:\n",
        "Now, try to calculate the following joint probability:\n",
        "* $\\operatorname{Pr}(G=T, S=F, R=T)$,\n",
        "* $\\operatorname{Pr}(G=T, S=T, R=F)$, \n",
        "* $\\operatorname{Pr}(G=T, S=F, R=F)$."
      ]
    },
    {
      "cell_type": "markdown",
      "metadata": {
        "id": "UCMTiUbdraxl"
      },
      "source": [
        "TODO\n",
        "\n",
        "(Answer will be given in the following)"
      ]
    },
    {
      "cell_type": "markdown",
      "metadata": {
        "id": "D9lCLruxriY-"
      },
      "source": [
        "Finally, we calculate the event of interest. Here, let's say we're interested in the probability that it rains given that the grass is wet.\n",
        "\n",
        "$$\n",
        "\\operatorname{Pr}(R=T \\mid G=T)=\\frac{\\operatorname{Pr}(G=T, R=T)}{\\operatorname{Pr}(G=T)}=\\frac{\\sum_{S \\in\\{T, F\\}} \\operatorname{Pr}(G=T, S, R=T)}{\\sum_{S, R \\in\\{T, F\\}} \\operatorname{Pr}(G=T, S, R)} =\\frac{0.00198_{T T T}+0.1584_{T F T}}{0.00198_{T T T}+0.288_{T T F}+0.1584_{T F T}+0.0_{T F F}}=\\frac{891}{2491} \\approx 35.77 \\%\n",
        "$$\n",
        "The probability that it rains given that the grass is wet is 35.77%."
      ]
    },
    {
      "cell_type": "code",
      "metadata": {
        "id": "wopUQk6F31Ay"
      },
      "source": [
        ""
      ],
      "execution_count": null,
      "outputs": []
    }
  ]
}