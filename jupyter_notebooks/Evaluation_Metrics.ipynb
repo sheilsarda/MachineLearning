{
  "nbformat": 4,
  "nbformat_minor": 0,
  "metadata": {
    "colab": {
      "name": "Evaluation Metrics.ipynb",
      "provenance": []
    },
    "kernelspec": {
      "name": "python3",
      "display_name": "Python 3"
    }
  },
  "cells": [
    {
      "cell_type": "markdown",
      "metadata": {
        "id": "ZvxH0RigF0zZ"
      },
      "source": [
        "#**Evaluation Metrics**\n",
        "\n",
        "**Content Creator:** Mohitrajhu Lingan Kumaraian\n",
        "\n",
        "**Learning Objectives:**\n",
        "\n",
        "\n",
        "*   Understand how probablility thresholds affect ML model predicions\n",
        "* Understand confusion matrices and ROC curves \n",
        "\n"
      ]
    },
    {
      "cell_type": "code",
      "metadata": {
        "id": "zND3zBTVQpcx"
      },
      "source": [
        "from sklearn.metrics import accuracy_score,precision_score,recall_score,fbeta_score, confusion_matrix,roc_curve,auc\n",
        "import numpy as np\n",
        "import matplotlib.pyplot as plt"
      ],
      "execution_count": null,
      "outputs": []
    },
    {
      "cell_type": "markdown",
      "metadata": {
        "id": "85HNO0NNLkYW"
      },
      "source": [
        "##The Outcomes considered\n",
        "\n",
        "Let y_true be the true labels of input data and y_score contain the outcome predicted by the classifier for the same input data."
      ]
    },
    {
      "cell_type": "code",
      "metadata": {
        "id": "QmDF3ss5Ljh8"
      },
      "source": [
        "y_true = np.array([1,0,0,1,1,1,0,1,0,0,0,0,0,1,0,1,1,1])\n",
        "y_score = np.array([0.8,0.3,0.4,0.7,0.9,0.65,0.21,0.55,0.1,0.16,0.37,0.22,0.25,0.49,0.45,0.7,0.75,0.99])\n"
      ],
      "execution_count": null,
      "outputs": []
    },
    {
      "cell_type": "markdown",
      "metadata": {
        "id": "5RKlJWd7M60K"
      },
      "source": [
        "First, if we choose the threshold probability to be 0.5, then y_outcome will be as follows"
      ]
    },
    {
      "cell_type": "code",
      "metadata": {
        "id": "JZewh6n-NHuw"
      },
      "source": [
        "##Threshold probability\n",
        "p_thresh = 0.5\n",
        "y_outcome1 = y_score.copy()\n",
        "y_outcome1[y_outcome1>p_thresh] = 1\n",
        "y_outcome1[y_outcome1<=p_thresh] = 0"
      ],
      "execution_count": null,
      "outputs": []
    },
    {
      "cell_type": "markdown",
      "metadata": {
        "id": "lzQOKEv1N3r-"
      },
      "source": [
        "The cnfusion matrix for this example is as follows:\n",
        "\n",
        "**Note:** The sklearn confusion matrix follows the normal convention as shown in the class slides: rows are the true outcome, columns are the predicted outcome"
      ]
    },
    {
      "cell_type": "code",
      "metadata": {
        "id": "h3KKHfU_N8ln",
        "outputId": "ab85aaac-e767-4436-8817-a7ff5425dee1",
        "colab": {
          "base_uri": "https://localhost:8080/"
        }
      },
      "source": [
        "confusion_matrix(y_true,y_outcome1)"
      ],
      "execution_count": null,
      "outputs": [
        {
          "output_type": "execute_result",
          "data": {
            "text/plain": [
              "array([[9, 0],\n",
              "       [1, 8]])"
            ]
          },
          "metadata": {
            "tags": []
          },
          "execution_count": 6
        }
      ]
    },
    {
      "cell_type": "markdown",
      "metadata": {
        "id": "BAfPfrBtOfLd"
      },
      "source": [
        "As you can see from above, the outcomes are as follows:\n",
        "\n",
        "*    True Positives (TP) = 9\n",
        "*    False Positives (FP) = 0\n",
        "*    False Negatives (FN) = 1\n",
        "*    True Negatives (TN) = 8\n",
        "\n",
        "The resulting accuracy, precision, recall and F1 score are:\n"
      ]
    },
    {
      "cell_type": "code",
      "metadata": {
        "id": "9OwrE0plOd7u",
        "outputId": "517130db-a85f-449e-d9f9-b459a27d3c40",
        "colab": {
          "base_uri": "https://localhost:8080/"
        }
      },
      "source": [
        "print(\"Accuracy: {}\".format(accuracy_score(y_true,y_outcome1)))\n",
        "print(\"Precision: {}\".format(precision_score(y_true,y_outcome1)))\n",
        "print(\"Recall: {}\".format(recall_score(y_true,y_outcome1)))\n",
        "print(\"F1: {}\".format(fbeta_score(y_true,y_outcome1,1)))"
      ],
      "execution_count": null,
      "outputs": [
        {
          "output_type": "stream",
          "text": [
            "Accuracy: 0.9444444444444444\n",
            "Precision: 1.0\n",
            "Recall: 0.8888888888888888\n",
            "F1: 0.9411764705882353\n"
          ],
          "name": "stdout"
        }
      ]
    },
    {
      "cell_type": "markdown",
      "metadata": {
        "id": "GbIt-KkyP85m"
      },
      "source": [
        "Now, if we want to be more confident of our positive predictions,  the probability threshold can be raised to be 0.7. How do you expect accuracy, precision, recall and F1 to change?\n",
        "\n",
        "What if you reduce the threshold to be 0.3?\n",
        "\n",
        "What do you think the optimal value of p_threshold should be to maximize accuracy? \n",
        "\n",
        "In this case, there is a threshold value which can be used to perfectly classify the examples. But, this is not usually the case. As shown in the slides, the probability values carry different meanings in different situations. Thus, the probability threshold needs to be selected based on the true loss function of your application."
      ]
    },
    {
      "cell_type": "markdown",
      "metadata": {
        "id": "RsnMnFtASU9V"
      },
      "source": [
        "##ROC curve\n",
        "\n",
        "For the above example, the ROC curve is:"
      ]
    },
    {
      "cell_type": "code",
      "metadata": {
        "id": "lU3mBDfdTsOL",
        "outputId": "09538690-4250-4bc6-9df6-2ae8d60346cc",
        "colab": {
          "base_uri": "https://localhost:8080/",
          "height": 312
        }
      },
      "source": [
        "fpr,tpr,_=roc_curve(y_true,y_score,pos_label=1)\n",
        "plt.plot(fpr,tpr)\n",
        "plt.title(\"ROC curve for the given classifier \")\n",
        "plt.ylabel(\"TPR\")\n",
        "plt.xlabel(\"FPR\")\n",
        "print(\" The area under is curve is {}\".format(auc(fpr,tpr)))"
      ],
      "execution_count": null,
      "outputs": [
        {
          "output_type": "stream",
          "text": [
            " The area under is curve is 1.0\n"
          ],
          "name": "stdout"
        },
        {
          "output_type": "display_data",
          "data": {
            "image/png": "[encoded data removed]",
            "text/plain": [
              "<Figure size 432x288 with 1 Axes>"
            ]
          },
          "metadata": {
            "tags": [],
            "needs_background": "light"
          }
        }
      ]
    },
    {
      "cell_type": "markdown",
      "metadata": {
        "id": "-8a8boM0Wkcm"
      },
      "source": [
        "The above classifier is the best possible classifier.  Let's see how the classification score would be for a random classifier, one that classifies every example into positive or negative with a constant probability of 0.5. How do you think the graph will look and what do you think the area under the curve would be? \n",
        "\n",
        "Run the code block below to find the answer. Did you get what you observed?\n"
      ]
    },
    {
      "cell_type": "code",
      "metadata": {
        "id": "ol9swIilW5Fo",
        "outputId": "f6f06ff6-db85-4b55-a91c-4d5761f37e3e",
        "colab": {
          "base_uri": "https://localhost:8080/",
          "height": 312
        }
      },
      "source": [
        "## output of randon classifier\n",
        "y_randomscore = np.array([0.5]*18)\n",
        "fpr,tpr,_=roc_curve(y_true,y_randomscore,pos_label=1)\n",
        "plt.plot(fpr,tpr)\n",
        "plt.title(\"ROC curve for the given classifier \")\n",
        "plt.ylabel(\"TPR\")\n",
        "plt.xlabel(\"FPR\")\n",
        "print(\" The area under is curve is {}\".format(auc(fpr,tpr)))"
      ],
      "execution_count": null,
      "outputs": [
        {
          "output_type": "stream",
          "text": [
            " The area under is curve is 0.5\n"
          ],
          "name": "stdout"
        },
        {
          "output_type": "display_data",
          "data": {
            "image/png": "[encoded data removed]",
            "text/plain": [
              "<Figure size 432x288 with 1 Axes>"
            ]
          },
          "metadata": {
            "tags": [],
            "needs_background": "light"
          }
        }
      ]
    },
    {
      "cell_type": "markdown",
      "metadata": {
        "id": "KbuxDxxIXqMq"
      },
      "source": [
        "Do you think we can have a classifier whose curve is completely below the straight line above? What do you think of such classifier?\n",
        "\n",
        "Do you think a curve similar to the auc=1 will be formed even for a classifier which classifies all the positive examples with a probability greater than 0.5? When do you get an ROC curve with an AUC between 0.5 and 1?\n",
        "\n",
        "Experiment with this notebook to see how the ROC curve varies in different situations."
      ]
    },
    {
      "cell_type": "code",
      "metadata": {
        "id": "goyQXnIKYdgP",
        "outputId": "068f71fe-0aa1-49c9-a641-ed1c1a1148fb",
        "colab": {
          "base_uri": "https://localhost:8080/",
          "height": 312
        }
      },
      "source": [
        "y_true = [1,0,1,1,0,1,0,0,1]\n",
        "y_score2 = [0.6,0.6,0.55,0.57,0.45,0.51,0.29,0.40,0.51]\n",
        "fpr,tpr,_ = roc_curve(y_true,y_score2,pos_label=1)\n",
        "plt.plot(fpr,tpr)\n",
        "plt.title(\"ROC curve for the given classifier \")\n",
        "plt.ylabel(\"TPR\")\n",
        "plt.xlabel(\"FPR\")\n",
        "print(\" The area under is curve is {}\".format(auc(fpr,tpr)))"
      ],
      "execution_count": null,
      "outputs": [
        {
          "output_type": "stream",
          "text": [
            " The area under is curve is 0.775\n"
          ],
          "name": "stdout"
        },
        {
          "output_type": "display_data",
          "data": {
            "image/png": "[encoded data removed]",
            "text/plain": [
              "<Figure size 432x288 with 1 Axes>"
            ]
          },
          "metadata": {
            "tags": [],
            "needs_background": "light"
          }
        }
      ]
    }
  ]
}