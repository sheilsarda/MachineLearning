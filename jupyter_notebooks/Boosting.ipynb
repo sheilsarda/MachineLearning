{
  "nbformat": 4,
  "nbformat_minor": 0,
  "metadata": {
    "kernelspec": {
      "display_name": "Python 3",
      "language": "python",
      "name": "python3"
    },
    "language_info": {
      "codemirror_mode": {
        "name": "ipython",
        "version": 3
      },
      "file_extension": ".py",
      "mimetype": "text/x-python",
      "name": "python",
      "nbconvert_exporter": "python",
      "pygments_lexer": "ipython3",
      "version": "3.6.6"
    },
    "nav_menu": {
      "height": "252px",
      "width": "333px"
    },
    "toc": {
      "navigate_menu": true,
      "number_sections": true,
      "sideBar": true,
      "threshold": 6,
      "toc_cell": false,
      "toc_section_display": "block",
      "toc_window_display": false
    },
    "colab": {
      "name": "Boosting.ipynb",
      "provenance": [],
      "collapsed_sections": []
    },
    "accelerator": "GPU"
  },
  "cells": [
    {
      "cell_type": "markdown",
      "metadata": {
        "id": "S-J1vUcuKlWW"
      },
      "source": [
        "# **CIS 520: Machine Learning, Fall 2020**\n",
        "# **Week 6, Worksheet 1**\n",
        "## **Boosting**\n",
        "\n",
        "\n",
        "- **Content Creators:** Siyun Hu\n",
        "- **Content Reviewers:** Michael Zhou, Shaozhe Lyu\n",
        "- **Acknowledgements:** This notebook contains an excerpt from [Hands-on Machine Learning with Scikit-Learn and TensorFlow](https://www.oreilly.com/library/view/hands-on-machine-learning/9781491962282/) by Aurélien Géron. The content is available on [Github](https://github.com/ageron/handson-ml).\n",
        "\n",
        "\n",
        "\n",
        "The objective of this notebook is to walk you through examples of various kinds of boosting algorithms and compare their performance on MNIST dataset."
      ]
    },
    {
      "cell_type": "markdown",
      "metadata": {
        "id": "wf7ee3BuJbhp"
      },
      "source": [
        "# Setup"
      ]
    },
    {
      "cell_type": "markdown",
      "metadata": {
        "id": "9mVNn1fqO_rr"
      },
      "source": [
        "Import part of the packages and data we used in this notebook. "
      ]
    },
    {
      "cell_type": "code",
      "metadata": {
        "id": "cpr8nRRyPBIa"
      },
      "source": [
        "import numpy as np\n",
        "import matplotlib.pyplot as plt\n",
        "from sklearn.model_selection import train_test_split\n",
        "from sklearn.ensemble import AdaBoostClassifier\n",
        "from sklearn.tree import DecisionTreeClassifier\n",
        "from sklearn.ensemble import GradientBoostingClassifier\n",
        "\n",
        "from sklearn.metrics import accuracy_score\n",
        "from sklearn.metrics import log_loss"
      ],
      "execution_count": null,
      "outputs": []
    },
    {
      "cell_type": "code",
      "metadata": {
        "id": "Id__IDWgRYUE"
      },
      "source": [
        "# import MNIST from sklearn\n",
        "try:\n",
        "    from sklearn.datasets import fetch_openml\n",
        "    mnist = fetch_openml('mnist_784', version=1)\n",
        "    mnist.target = mnist.target.astype(np.int64)\n",
        "except ImportError:\n",
        "    from sklearn.datasets import fetch_mldata\n",
        "    mnist = fetch_mldata('MNIST original')"
      ],
      "execution_count": null,
      "outputs": []
    },
    {
      "cell_type": "code",
      "metadata": {
        "id": "fluNwmVxPhCk"
      },
      "source": [
        "# split the MNIST data into train, valiation and test set\n",
        "X_train_val, X_test, y_train_val, y_test = train_test_split(\n",
        "    mnist.data, mnist.target, test_size=10000, random_state=42)\n",
        "X_train, X_val, y_train, y_val = train_test_split(\n",
        "    X_train_val, y_train_val, test_size=10000, random_state=42)"
      ],
      "execution_count": null,
      "outputs": []
    },
    {
      "cell_type": "code",
      "metadata": {
        "id": "T4tLNrh-SlKX",
        "outputId": "fcdceee5-f1b0-484a-dc0e-ea3e08f910f9",
        "colab": {
          "base_uri": "https://localhost:8080/",
          "height": 282
        }
      },
      "source": [
        "# visualize the first element in X_train\n",
        "plt.imshow(X_train[0].reshape(28,28))"
      ],
      "execution_count": null,
      "outputs": [
        {
          "output_type": "execute_result",
          "data": {
            "text/plain": [
              "<matplotlib.image.AxesImage at 0x7f795cd157b8>"
            ]
          },
          "metadata": {
            "tags": []
          },
          "execution_count": 4
        },
        {
          "output_type": "display_data",
          "data": {
            "image/png": "[encoded data removed]",
            "text/plain": [
              "<Figure size 432x288 with 1 Axes>"
            ]
          },
          "metadata": {
            "tags": [],
            "needs_background": "light"
          }
        }
      ]
    },
    {
      "cell_type": "code",
      "metadata": {
        "id": "65J7iJD-Svjo",
        "outputId": "ec4a0f95-ac4d-4528-fece-b44bc4934d54",
        "colab": {
          "base_uri": "https://localhost:8080/",
          "height": 34
        }
      },
      "source": [
        "y_train[0]"
      ],
      "execution_count": null,
      "outputs": [
        {
          "output_type": "execute_result",
          "data": {
            "text/plain": [
              "4"
            ]
          },
          "metadata": {
            "tags": []
          },
          "execution_count": 5
        }
      ]
    },
    {
      "cell_type": "markdown",
      "metadata": {
        "id": "nQ1_5TYIJbil"
      },
      "source": [
        "# AdaBoost"
      ]
    },
    {
      "cell_type": "markdown",
      "metadata": {
        "id": "BlMEHZVDS1aC"
      },
      "source": [
        "The first boosting algorithm we will go through is **AdaBoost**. You can see the [sklearn documentation of AdaBoostClassifier](https://scikit-learn.org/stable/modules/generated/sklearn.ensemble.AdaBoostClassifier.html). The code below shows how we initiate a simple AdaBoost classifier and train it on our MNIST dataset. "
      ]
    },
    {
      "cell_type": "code",
      "metadata": {
        "id": "7jQYmr_XJbim",
        "outputId": "5b5cc5c4-74d0-4887-fd93-db9e80136fb0",
        "colab": {
          "base_uri": "https://localhost:8080/",
          "height": 289
        }
      },
      "source": [
        "# create an AdaBoost classifier\n",
        "ada_clf = AdaBoostClassifier(\n",
        "    DecisionTreeClassifier(max_depth=1), n_estimators=200,\n",
        "    algorithm=\"SAMME.R\", learning_rate=0.5, random_state=42)\n",
        "ada_clf.fit(X_train, y_train)"
      ],
      "execution_count": null,
      "outputs": [
        {
          "output_type": "execute_result",
          "data": {
            "text/plain": [
              "AdaBoostClassifier(algorithm='SAMME.R',\n",
              "                   base_estimator=DecisionTreeClassifier(ccp_alpha=0.0,\n",
              "                                                         class_weight=None,\n",
              "                                                         criterion='gini',\n",
              "                                                         max_depth=1,\n",
              "                                                         max_features=None,\n",
              "                                                         max_leaf_nodes=None,\n",
              "                                                         min_impurity_decrease=0.0,\n",
              "                                                         min_impurity_split=None,\n",
              "                                                         min_samples_leaf=1,\n",
              "                                                         min_samples_split=2,\n",
              "                                                         min_weight_fraction_leaf=0.0,\n",
              "                                                         presort='deprecated',\n",
              "                                                         random_state=None,\n",
              "                                                         splitter='best'),\n",
              "                   learning_rate=0.5, n_estimators=200, random_state=42)"
            ]
          },
          "metadata": {
            "tags": []
          },
          "execution_count": 6
        }
      ]
    },
    {
      "cell_type": "code",
      "metadata": {
        "id": "vE1S2f3ibsN5",
        "outputId": "4be22b95-fcb8-445b-ffa5-e7f3113becba",
        "colab": {
          "base_uri": "https://localhost:8080/",
          "height": 34
        }
      },
      "source": [
        "# calculate the accuracy score on train set\n",
        "ada_clf.score(X_train, y_train)"
      ],
      "execution_count": null,
      "outputs": [
        {
          "output_type": "execute_result",
          "data": {
            "text/plain": [
              "0.7937"
            ]
          },
          "metadata": {
            "tags": []
          },
          "execution_count": 7
        }
      ]
    },
    {
      "cell_type": "code",
      "metadata": {
        "id": "ECIuQry4Jbio",
        "outputId": "1526181e-a976-4208-bc74-1a366a794033",
        "colab": {
          "base_uri": "https://localhost:8080/",
          "height": 34
        }
      },
      "source": [
        "# calculate the accuracy score on test set\n",
        "accuracy_score(y_test, ada_clf.predict(X_test))"
      ],
      "execution_count": null,
      "outputs": [
        {
          "output_type": "execute_result",
          "data": {
            "text/plain": [
              "0.7851"
            ]
          },
          "metadata": {
            "tags": []
          },
          "execution_count": 8
        }
      ]
    },
    {
      "cell_type": "markdown",
      "metadata": {
        "id": "BMbrxFphcV2L"
      },
      "source": [
        "We find the accuracies on the train set and test set are quite close in the above example. Therefore, it's quite fair for us to say, there is no over-fitting problem. But what if there is an obvious gap between performance on the validation set and training set? What kind of method can we use to prevent over-fitting? *(Hint: Many hyper-parameters could control model complexity)*"
      ]
    },
    {
      "cell_type": "markdown",
      "metadata": {
        "id": "q236-OY3bB5I"
      },
      "source": [
        "The hyper-parameters we try here are not optimal. You could tune it by yourself to see the effect of different hyper-parameters. Below is an example code of how we tune max_depth."
      ]
    },
    {
      "cell_type": "markdown",
      "metadata": {
        "id": "W6Lio1yGsen2"
      },
      "source": [
        "Please notice that it is quite **time-consuming** to run below cell. If you want to run this code by yourself, you could choose depths = [1,3,5] instead of [1,3,5,8] to accelerate the process."
      ]
    },
    {
      "cell_type": "code",
      "metadata": {
        "id": "UFGKtKdLaM-x",
        "outputId": "8eaecbd7-999a-487f-c54c-9ba839092e99",
        "colab": {
          "base_uri": "https://localhost:8080/",
          "height": 85
        }
      },
      "source": [
        "# create a list of all possible depth values\n",
        "depths = [1,3,5,8]\n",
        "models = []\n",
        "train_accuracy = []\n",
        "val_accuracy = []\n",
        "# create a list of models \n",
        "for depth in depths:\n",
        "  model = AdaBoostClassifier(\n",
        "    DecisionTreeClassifier(max_depth=depth), n_estimators=100,\n",
        "    algorithm=\"SAMME.R\", learning_rate=0.5, random_state=42)\n",
        "  model.fit(X_train, y_train)\n",
        "  models.append(model)\n",
        "  # evaluate model performance\n",
        "  train_score = model.score(X_train, y_train)\n",
        "  val_score = model.score(X_val, y_val)\n",
        "  train_accuracy.append(train_score)\n",
        "  val_accuracy.append(val_score)\n",
        "  print('Depth: {} Train Accuracy: {} Test Accuracy: {}'.format(depth, train_score, val_score))"
      ],
      "execution_count": null,
      "outputs": [
        {
          "output_type": "stream",
          "text": [
            "Depth: 1 Train Accuracy: 0.79236 Test Accuracy: 0.7883\n",
            "Depth: 3 Train Accuracy: 0.8957 Test Accuracy: 0.8895\n",
            "Depth: 5 Train Accuracy: 0.93926 Test Accuracy: 0.9087\n",
            "Depth: 8 Train Accuracy: 0.99032 Test Accuracy: 0.9465\n"
          ],
          "name": "stdout"
        }
      ]
    },
    {
      "cell_type": "code",
      "metadata": {
        "id": "JRJ4XqageaxC",
        "outputId": "8e6c51c2-d37c-4325-e8ee-0075afd6a7aa",
        "colab": {
          "base_uri": "https://localhost:8080/",
          "height": 281
        }
      },
      "source": [
        "# plot the train and test accuracy\n",
        "plt.plot(depths, train_accuracy, '-')\n",
        "plt.plot(depths, val_accuracy, '--')\n",
        "plt.title('The accuracy of different max_depth')\n",
        "plt.show()"
      ],
      "execution_count": null,
      "outputs": [
        {
          "output_type": "display_data",
          "data": {
            "image/png": "[encoded data removed]",
            "text/plain": [
              "<Figure size 432x288 with 1 Axes>"
            ]
          },
          "metadata": {
            "tags": [],
            "needs_background": "light"
          }
        }
      ]
    },
    {
      "cell_type": "markdown",
      "metadata": {
        "id": "IMkmZTqmtD4h"
      },
      "source": [
        "According to this figure, which one is the optimal max_depth? "
      ]
    },
    {
      "cell_type": "markdown",
      "metadata": {
        "id": "yPdLtfraGcKv"
      },
      "source": [
        "Once you get the answer, you could calculate model performance on the test set using the optimal model we found in the previous step."
      ]
    },
    {
      "cell_type": "code",
      "metadata": {
        "id": "6_jS0sOPtDWQ",
        "outputId": "6d4a4f3e-5bf9-428f-cbe9-92eb3f8664e0",
        "colab": {
          "base_uri": "https://localhost:8080/",
          "height": 34
        }
      },
      "source": [
        "best_model = models[np.argmax(val_accuracy)]\n",
        "best_model.score(X_test, y_test)"
      ],
      "execution_count": null,
      "outputs": [
        {
          "output_type": "execute_result",
          "data": {
            "text/plain": [
              "0.9423"
            ]
          },
          "metadata": {
            "tags": []
          },
          "execution_count": 11
        }
      ]
    },
    {
      "cell_type": "markdown",
      "metadata": {
        "id": "uclRTXkdhuag"
      },
      "source": [
        "Another very powerful property of tree-based algorithms is that it is more **explainable** compared with other algorithms. We can display feature importance using the following syntax:"
      ]
    },
    {
      "cell_type": "code",
      "metadata": {
        "id": "ZUN-2xPqiRvU",
        "outputId": "19884604-8701-4d28-dcb3-c1c983c1d53b",
        "colab": {
          "base_uri": "https://localhost:8080/",
          "height": 1000
        }
      },
      "source": [
        "models[0].feature_importances_"
      ],
      "execution_count": null,
      "outputs": [
        {
          "output_type": "execute_result",
          "data": {
            "text/plain": [
              "array([0.  , 0.  , 0.  , 0.  , 0.  , 0.  , 0.  , 0.  , 0.  , 0.  , 0.  ,\n",
              "       0.  , 0.  , 0.  , 0.  , 0.  , 0.  , 0.  , 0.  , 0.  , 0.  , 0.  ,\n",
              "       0.  , 0.  , 0.  , 0.  , 0.  , 0.  , 0.  , 0.  , 0.  , 0.  , 0.  ,\n",
              "       0.  , 0.  , 0.  , 0.  , 0.  , 0.  , 0.  , 0.  , 0.  , 0.  , 0.  ,\n",
              "       0.  , 0.  , 0.  , 0.  , 0.  , 0.  , 0.  , 0.  , 0.  , 0.  , 0.  ,\n",
              "       0.  , 0.  , 0.  , 0.  , 0.  , 0.  , 0.  , 0.  , 0.  , 0.  , 0.  ,\n",
              "       0.  , 0.  , 0.  , 0.  , 0.  , 0.  , 0.  , 0.  , 0.  , 0.  , 0.  ,\n",
              "       0.  , 0.  , 0.  , 0.  , 0.  , 0.  , 0.  , 0.  , 0.  , 0.  , 0.  ,\n",
              "       0.  , 0.  , 0.  , 0.  , 0.01, 0.  , 0.01, 0.  , 0.01, 0.01, 0.  ,\n",
              "       0.01, 0.  , 0.  , 0.  , 0.  , 0.  , 0.  , 0.  , 0.  , 0.  , 0.  ,\n",
              "       0.  , 0.  , 0.  , 0.  , 0.  , 0.  , 0.  , 0.  , 0.  , 0.  , 0.  ,\n",
              "       0.  , 0.01, 0.  , 0.  , 0.  , 0.  , 0.  , 0.02, 0.01, 0.01, 0.  ,\n",
              "       0.01, 0.01, 0.  , 0.  , 0.  , 0.01, 0.  , 0.  , 0.  , 0.  , 0.  ,\n",
              "       0.  , 0.  , 0.  , 0.  , 0.  , 0.  , 0.  , 0.  , 0.  , 0.  , 0.  ,\n",
              "       0.  , 0.01, 0.  , 0.  , 0.  , 0.  , 0.  , 0.  , 0.  , 0.  , 0.  ,\n",
              "       0.  , 0.  , 0.  , 0.  , 0.  , 0.  , 0.  , 0.  , 0.  , 0.  , 0.  ,\n",
              "       0.01, 0.  , 0.  , 0.  , 0.01, 0.01, 0.  , 0.  , 0.  , 0.  , 0.  ,\n",
              "       0.  , 0.  , 0.  , 0.  , 0.01, 0.  , 0.  , 0.  , 0.  , 0.  , 0.  ,\n",
              "       0.  , 0.  , 0.  , 0.  , 0.  , 0.  , 0.  , 0.  , 0.01, 0.  , 0.  ,\n",
              "       0.  , 0.  , 0.01, 0.01, 0.  , 0.01, 0.  , 0.  , 0.  , 0.  , 0.  ,\n",
              "       0.  , 0.  , 0.  , 0.  , 0.  , 0.  , 0.  , 0.  , 0.  , 0.  , 0.  ,\n",
              "       0.  , 0.  , 0.  , 0.  , 0.  , 0.  , 0.  , 0.  , 0.  , 0.  , 0.01,\n",
              "       0.  , 0.  , 0.  , 0.  , 0.  , 0.  , 0.01, 0.  , 0.  , 0.  , 0.  ,\n",
              "       0.  , 0.  , 0.  , 0.  , 0.  , 0.  , 0.  , 0.  , 0.  , 0.  , 0.  ,\n",
              "       0.  , 0.  , 0.  , 0.  , 0.01, 0.  , 0.  , 0.01, 0.  , 0.  , 0.  ,\n",
              "       0.  , 0.01, 0.  , 0.  , 0.  , 0.  , 0.  , 0.  , 0.  , 0.  , 0.  ,\n",
              "       0.  , 0.  , 0.  , 0.  , 0.  , 0.  , 0.  , 0.  , 0.01, 0.  , 0.  ,\n",
              "       0.01, 0.  , 0.  , 0.  , 0.  , 0.  , 0.  , 0.  , 0.  , 0.  , 0.  ,\n",
              "       0.  , 0.  , 0.  , 0.  , 0.  , 0.  , 0.  , 0.  , 0.  , 0.01, 0.  ,\n",
              "       0.  , 0.  , 0.  , 0.01, 0.  , 0.  , 0.01, 0.01, 0.  , 0.  , 0.  ,\n",
              "       0.  , 0.  , 0.  , 0.  , 0.  , 0.  , 0.  , 0.  , 0.  , 0.  , 0.  ,\n",
              "       0.  , 0.  , 0.  , 0.01, 0.  , 0.01, 0.  , 0.01, 0.01, 0.01, 0.  ,\n",
              "       0.02, 0.  , 0.  , 0.  , 0.  , 0.01, 0.01, 0.02, 0.  , 0.  , 0.  ,\n",
              "       0.  , 0.  , 0.  , 0.  , 0.  , 0.  , 0.  , 0.  , 0.  , 0.  , 0.  ,\n",
              "       0.  , 0.01, 0.  , 0.01, 0.  , 0.  , 0.01, 0.  , 0.02, 0.  , 0.  ,\n",
              "       0.01, 0.  , 0.02, 0.  , 0.  , 0.  , 0.  , 0.  , 0.  , 0.  , 0.  ,\n",
              "       0.  , 0.  , 0.  , 0.  , 0.  , 0.  , 0.01, 0.01, 0.01, 0.  , 0.01,\n",
              "       0.02, 0.  , 0.01, 0.  , 0.02, 0.  , 0.  , 0.  , 0.  , 0.  , 0.  ,\n",
              "       0.  , 0.  , 0.  , 0.  , 0.  , 0.  , 0.  , 0.  , 0.  , 0.  , 0.01,\n",
              "       0.  , 0.  , 0.  , 0.  , 0.  , 0.03, 0.01, 0.  , 0.  , 0.01, 0.  ,\n",
              "       0.  , 0.  , 0.  , 0.  , 0.  , 0.  , 0.  , 0.  , 0.  , 0.  , 0.  ,\n",
              "       0.  , 0.  , 0.  , 0.  , 0.01, 0.  , 0.01, 0.  , 0.  , 0.  , 0.01,\n",
              "       0.01, 0.  , 0.  , 0.  , 0.01, 0.  , 0.  , 0.  , 0.  , 0.  , 0.  ,\n",
              "       0.01, 0.  , 0.  , 0.  , 0.  , 0.  , 0.  , 0.  , 0.  , 0.  , 0.  ,\n",
              "       0.  , 0.01, 0.01, 0.01, 0.  , 0.  , 0.01, 0.  , 0.  , 0.  , 0.  ,\n",
              "       0.  , 0.  , 0.  , 0.  , 0.  , 0.  , 0.  , 0.  , 0.  , 0.  , 0.  ,\n",
              "       0.  , 0.  , 0.  , 0.  , 0.01, 0.  , 0.01, 0.  , 0.  , 0.01, 0.  ,\n",
              "       0.  , 0.  , 0.  , 0.  , 0.  , 0.  , 0.01, 0.  , 0.  , 0.  , 0.01,\n",
              "       0.  , 0.  , 0.  , 0.  , 0.  , 0.  , 0.  , 0.  , 0.  , 0.  , 0.  ,\n",
              "       0.  , 0.  , 0.  , 0.01, 0.  , 0.  , 0.  , 0.  , 0.  , 0.  , 0.  ,\n",
              "       0.  , 0.  , 0.  , 0.  , 0.  , 0.  , 0.  , 0.  , 0.  , 0.  , 0.  ,\n",
              "       0.  , 0.  , 0.  , 0.01, 0.  , 0.  , 0.01, 0.  , 0.01, 0.  , 0.02,\n",
              "       0.01, 0.  , 0.  , 0.  , 0.  , 0.  , 0.01, 0.  , 0.  , 0.  , 0.  ,\n",
              "       0.  , 0.  , 0.  , 0.  , 0.  , 0.  , 0.  , 0.  , 0.  , 0.  , 0.  ,\n",
              "       0.  , 0.  , 0.  , 0.02, 0.  , 0.  , 0.  , 0.01, 0.  , 0.  , 0.  ,\n",
              "       0.  , 0.  , 0.  , 0.  , 0.  , 0.  , 0.  , 0.  , 0.  , 0.  , 0.  ,\n",
              "       0.  , 0.  , 0.  , 0.  , 0.  , 0.  , 0.  , 0.  , 0.  , 0.  , 0.  ,\n",
              "       0.  , 0.  , 0.  , 0.01, 0.  , 0.  , 0.  , 0.  , 0.  , 0.  , 0.  ,\n",
              "       0.  , 0.  , 0.  , 0.  , 0.  , 0.  , 0.  , 0.  , 0.  , 0.  , 0.  ,\n",
              "       0.  , 0.  , 0.  , 0.  , 0.  , 0.  , 0.01, 0.02, 0.  , 0.  , 0.  ,\n",
              "       0.  , 0.  , 0.  , 0.  , 0.  , 0.  , 0.  , 0.  , 0.  , 0.  , 0.  ,\n",
              "       0.  , 0.  , 0.  , 0.  , 0.  , 0.  , 0.  , 0.  , 0.  , 0.  , 0.  ,\n",
              "       0.01, 0.  , 0.  , 0.  , 0.  , 0.  , 0.  , 0.  , 0.  , 0.  , 0.  ,\n",
              "       0.  , 0.  , 0.  , 0.  , 0.  , 0.  , 0.  , 0.  , 0.  , 0.  , 0.  ,\n",
              "       0.  , 0.  , 0.  , 0.  , 0.  , 0.  , 0.01, 0.  , 0.  , 0.  , 0.01,\n",
              "       0.  , 0.  , 0.  , 0.  , 0.  , 0.  , 0.  , 0.  , 0.  , 0.  , 0.  ,\n",
              "       0.  , 0.  , 0.  , 0.  , 0.  , 0.  , 0.  , 0.  , 0.  , 0.  , 0.  ,\n",
              "       0.  , 0.  , 0.  , 0.  , 0.  , 0.  , 0.  , 0.  , 0.  , 0.  , 0.  ,\n",
              "       0.  , 0.  , 0.  , 0.  , 0.  , 0.  , 0.  , 0.  , 0.  , 0.  , 0.  ,\n",
              "       0.  , 0.  , 0.  , 0.  , 0.  , 0.  , 0.  , 0.  , 0.  , 0.  , 0.  ,\n",
              "       0.  , 0.  , 0.  , 0.  , 0.  , 0.  , 0.  , 0.  , 0.  , 0.  , 0.  ,\n",
              "       0.  , 0.  , 0.  ])"
            ]
          },
          "metadata": {
            "tags": []
          },
          "execution_count": 12
        }
      ]
    },
    {
      "cell_type": "markdown",
      "metadata": {
        "id": "wBmlCjnsJbis"
      },
      "source": [
        "# Gradient Boosting"
      ]
    },
    {
      "cell_type": "markdown",
      "metadata": {
        "id": "M0nWlz6IgZNi"
      },
      "source": [
        "Gradient Boosting is another powerful boosting algorithm. To learn more about the difference between AdaBoost and Gradient Boost, refer to the [lecture slide](https://www.seas.upenn.edu/~cis520/lectures/12_boosting.pdf).\n",
        "Here is the [sklearn documentation of Gradient Boosting](https://scikit-learn.org/stable/modules/generated/sklearn.ensemble.GradientBoostingClassifier.html)."
      ]
    },
    {
      "cell_type": "code",
      "metadata": {
        "id": "zT0n9ANOJbi9",
        "outputId": "abb374be-3c92-418f-ac79-e9da1a33f879",
        "colab": {
          "base_uri": "https://localhost:8080/",
          "height": 187
        }
      },
      "source": [
        "gbrt = GradientBoostingClassifier(max_depth=2, n_estimators=3, learning_rate=1.0, random_state=42)\n",
        "gbrt.fit(X_train, y_train)"
      ],
      "execution_count": null,
      "outputs": [
        {
          "output_type": "execute_result",
          "data": {
            "text/plain": [
              "GradientBoostingClassifier(ccp_alpha=0.0, criterion='friedman_mse', init=None,\n",
              "                           learning_rate=1.0, loss='deviance', max_depth=2,\n",
              "                           max_features=None, max_leaf_nodes=None,\n",
              "                           min_impurity_decrease=0.0, min_impurity_split=None,\n",
              "                           min_samples_leaf=1, min_samples_split=2,\n",
              "                           min_weight_fraction_leaf=0.0, n_estimators=3,\n",
              "                           n_iter_no_change=None, presort='deprecated',\n",
              "                           random_state=42, subsample=1.0, tol=0.0001,\n",
              "                           validation_fraction=0.1, verbose=0,\n",
              "                           warm_start=False)"
            ]
          },
          "metadata": {
            "tags": []
          },
          "execution_count": 13
        }
      ]
    },
    {
      "cell_type": "code",
      "metadata": {
        "id": "sN4Epiq3s4dx",
        "outputId": "0774fe76-cef7-4ead-ef0e-70cdf0ebd456",
        "colab": {
          "base_uri": "https://localhost:8080/",
          "height": 34
        }
      },
      "source": [
        "accuracy_score(y_test, gbrt.predict(X_test))"
      ],
      "execution_count": null,
      "outputs": [
        {
          "output_type": "execute_result",
          "data": {
            "text/plain": [
              "0.7186"
            ]
          },
          "metadata": {
            "tags": []
          },
          "execution_count": 14
        }
      ]
    },
    {
      "cell_type": "markdown",
      "metadata": {
        "id": "JpSvuiDQJbjE"
      },
      "source": [
        "## Gradient Boosting with Early Stopping"
      ]
    },
    {
      "cell_type": "markdown",
      "metadata": {
        "id": "GM6_q7aNhWhE"
      },
      "source": [
        "**Early stopping** is one of the important methods we use to prevent over-fitting. Below is the example code of how we perform Gradient Boosting with early stopping."
      ]
    },
    {
      "cell_type": "code",
      "metadata": {
        "id": "2-kVbq1jJbjE",
        "outputId": "12af1b45-d901-4875-d914-75b99552bec1",
        "colab": {
          "base_uri": "https://localhost:8080/",
          "height": 187
        }
      },
      "source": [
        "gbrt = GradientBoostingClassifier(max_depth=2, subsample = 0.5, tol = 0.01, n_estimators=10, random_state=42)\n",
        "gbrt.fit(X_train, y_train)"
      ],
      "execution_count": null,
      "outputs": [
        {
          "output_type": "execute_result",
          "data": {
            "text/plain": [
              "GradientBoostingClassifier(ccp_alpha=0.0, criterion='friedman_mse', init=None,\n",
              "                           learning_rate=0.1, loss='deviance', max_depth=2,\n",
              "                           max_features=None, max_leaf_nodes=None,\n",
              "                           min_impurity_decrease=0.0, min_impurity_split=None,\n",
              "                           min_samples_leaf=1, min_samples_split=2,\n",
              "                           min_weight_fraction_leaf=0.0, n_estimators=10,\n",
              "                           n_iter_no_change=None, presort='deprecated',\n",
              "                           random_state=42, subsample=0.5, tol=0.01,\n",
              "                           validation_fraction=0.1, verbose=0,\n",
              "                           warm_start=False)"
            ]
          },
          "metadata": {
            "tags": []
          },
          "execution_count": 15
        }
      ]
    },
    {
      "cell_type": "code",
      "metadata": {
        "id": "0fXJn8nM5Qce",
        "outputId": "4d2bdd02-b54d-4eb6-99b2-694097c2d9e6",
        "colab": {
          "base_uri": "https://localhost:8080/",
          "height": 187
        }
      },
      "source": [
        "# find the optimal n_estimators - have lowest error on validation set\n",
        "errors = [log_loss(y_val, y_pred)\n",
        "          for y_pred in gbrt.staged_predict_proba(X_val)]\n",
        "bst_n_estimators = np.argmin(errors) + 1\n",
        "\n",
        "gbrt_best = GradientBoostingClassifier(max_depth=2,n_estimators=bst_n_estimators, random_state=42)\n",
        "gbrt_best.fit(X_train, y_train)"
      ],
      "execution_count": null,
      "outputs": [
        {
          "output_type": "execute_result",
          "data": {
            "text/plain": [
              "GradientBoostingClassifier(ccp_alpha=0.0, criterion='friedman_mse', init=None,\n",
              "                           learning_rate=0.1, loss='deviance', max_depth=2,\n",
              "                           max_features=None, max_leaf_nodes=None,\n",
              "                           min_impurity_decrease=0.0, min_impurity_split=None,\n",
              "                           min_samples_leaf=1, min_samples_split=2,\n",
              "                           min_weight_fraction_leaf=0.0, n_estimators=10,\n",
              "                           n_iter_no_change=None, presort='deprecated',\n",
              "                           random_state=42, subsample=1.0, tol=0.0001,\n",
              "                           validation_fraction=0.1, verbose=0,\n",
              "                           warm_start=False)"
            ]
          },
          "metadata": {
            "tags": []
          },
          "execution_count": 16
        }
      ]
    },
    {
      "cell_type": "code",
      "metadata": {
        "id": "F9jR2FPYJbjF",
        "outputId": "32e2c44c-9bf8-49a9-8c2d-b048a5fcb510",
        "colab": {
          "base_uri": "https://localhost:8080/",
          "height": 34
        }
      },
      "source": [
        "min_error = np.min(errors)\n",
        "min_error"
      ],
      "execution_count": null,
      "outputs": [
        {
          "output_type": "execute_result",
          "data": {
            "text/plain": [
              "1.1314577911569812"
            ]
          },
          "metadata": {
            "tags": []
          },
          "execution_count": 17
        }
      ]
    },
    {
      "cell_type": "markdown",
      "metadata": {
        "id": "cBxDR7cjHtsi"
      },
      "source": [
        "Since the number of estimators we tried here is only 10, it does not satisfy the requirement of early stopping. However, you can try a larger value for n_estimators to see the impact of early stopping here."
      ]
    },
    {
      "cell_type": "code",
      "metadata": {
        "id": "EjwrbyJcJbjH",
        "outputId": "effb9edb-d45e-4594-d12a-33632038980d",
        "colab": {
          "base_uri": "https://localhost:8080/",
          "height": 296
        }
      },
      "source": [
        "plt.figure(figsize=(11, 4))\n",
        "\n",
        "plt.subplot(121)\n",
        "plt.plot(errors, \"b.-\")\n",
        "plt.plot([bst_n_estimators, bst_n_estimators], [0, min_error], \"k--\")\n",
        "plt.plot([0, 10], [min_error, min_error], \"k--\")\n",
        "plt.plot(bst_n_estimators, min_error, \"ko\")\n",
        "plt.axis([0, 10, 0, 3])\n",
        "plt.xlabel(\"Number of trees\")\n",
        "plt.title(\"Validation error\", fontsize=14)\n",
        "plt.show()"
      ],
      "execution_count": null,
      "outputs": [
        {
          "output_type": "display_data",
          "data": {
            "image/png": "[encoded data removed]",
            "text/plain": [
              "<Figure size 792x288 with 1 Axes>"
            ]
          },
          "metadata": {
            "tags": [],
            "needs_background": "light"
          }
        }
      ]
    },
    {
      "cell_type": "markdown",
      "metadata": {
        "id": "I6ja94AuJbjP"
      },
      "source": [
        "## XGBoost"
      ]
    },
    {
      "cell_type": "markdown",
      "metadata": {
        "id": "wXelhfakkHhW"
      },
      "source": [
        "XGBoost is an optimized distributed gradient boosting library designed to be highly efficient, flexible and portable. It implements machine learning algorithms under the Gradient Boosting framework. See [XGBoost documentation](https://xgboost.readthedocs.io/en/latest/) here."
      ]
    },
    {
      "cell_type": "code",
      "metadata": {
        "id": "MfAGZKTXJbjP"
      },
      "source": [
        "# import xgboost\n",
        "try:\n",
        "    import xgboost \n",
        "except ImportError as ex:\n",
        "    print(\"Error: the xgboost library is not installed.\")\n",
        "    xgboost = None"
      ],
      "execution_count": null,
      "outputs": []
    },
    {
      "cell_type": "markdown",
      "metadata": {
        "id": "riwjgYRkpDvx"
      },
      "source": [
        "Since XGBoost does not directly support multi-classification (you can implement your own customized objective class to achieve this), we use digit 1 and 2 to build a binary data set."
      ]
    },
    {
      "cell_type": "code",
      "metadata": {
        "id": "yGpGgd9Upy3z"
      },
      "source": [
        "# filter the original data set\n",
        "indices = np.logical_or(mnist.target == 1, mnist.target == 2)\n",
        "small_data = mnist.data[indices]\n",
        "small_label = mnist.target[indices]\n",
        "# split the filtered data set\n",
        "X_train_val, X_test, y_train_val, y_test = train_test_split(\n",
        "    small_data, small_label, test_size=0.2, random_state=42)\n",
        "X_train, X_val, y_train, y_val = train_test_split(\n",
        "    X_train_val, y_train_val, test_size=0.2, random_state=42)"
      ],
      "execution_count": null,
      "outputs": []
    },
    {
      "cell_type": "code",
      "metadata": {
        "id": "cDncvfCUpawd",
        "outputId": "8dfd2617-f88d-4b49-8b86-bea18acae9ec",
        "colab": {
          "base_uri": "https://localhost:8080/",
          "height": 34
        }
      },
      "source": [
        "if xgboost is not None: \n",
        "    xgb = xgboost.XGBClassifier(max_depth=5, learning_rate=0.1, n_estimators=100,\n",
        "                              silent=True, objective='binary:logistic', booster='gbtree')\n",
        "    xgb.fit(X_train, y_train)\n",
        "    y_pred = xgb.predict(X_test)\n",
        "    accuracy = accuracy_score(y_test, y_pred)\n",
        "    print(\"Test Accuracy:\", accuracy)"
      ],
      "execution_count": null,
      "outputs": [
        {
          "output_type": "stream",
          "text": [
            "Test Accuracy: 0.9949562878278413\n"
          ],
          "name": "stdout"
        }
      ]
    },
    {
      "cell_type": "markdown",
      "metadata": {
        "id": "KcXUmA3Cmkaf"
      },
      "source": [
        "Early stopping in XGBoost is much easier. There is a parameter called early_stopping_rounds. The model will train until the validation score stops improving. Validation error needs to decrease at least every early_stopping_rounds to continue training. "
      ]
    },
    {
      "cell_type": "code",
      "metadata": {
        "id": "8lvETHowJbjT",
        "outputId": "3acc6150-cbbb-4595-8a99-ef44055cb26d",
        "colab": {
          "base_uri": "https://localhost:8080/",
          "height": 238
        }
      },
      "source": [
        "if xgboost is not None:  \n",
        "    xgb = xgboost.XGBClassifier(max_depth=5, learning_rate=0.1, n_estimators=100,\n",
        "                              silent=True, objective='binary:logistic', booster='gbtree')\n",
        "    xgb.fit(X_train, y_train,\n",
        "                eval_set=[(X_val, y_val)], early_stopping_rounds=2)\n",
        "    y_pred = xgb.predict(X_val)\n",
        "    val_accuracy = accuracy_score(y_val, y_pred)\n",
        "    print(\"Validation Accuracy:\", val_accuracy)"
      ],
      "execution_count": null,
      "outputs": [
        {
          "output_type": "stream",
          "text": [
            "[0]\tvalidation_0-error:0.026061\n",
            "Will train until validation_0-error hasn't improved in 2 rounds.\n",
            "[1]\tvalidation_0-error:0.02396\n",
            "[2]\tvalidation_0-error:0.020177\n",
            "[3]\tvalidation_0-error:0.019756\n",
            "[4]\tvalidation_0-error:0.019336\n",
            "[5]\tvalidation_0-error:0.018495\n",
            "[6]\tvalidation_0-error:0.019336\n",
            "[7]\tvalidation_0-error:0.018495\n",
            "Stopping. Best iteration:\n",
            "[5]\tvalidation_0-error:0.018495\n",
            "\n",
            "Validation Accuracy: 0.9815048339638504\n"
          ],
          "name": "stdout"
        }
      ]
    },
    {
      "cell_type": "markdown",
      "metadata": {
        "id": "zgmA3UEOCOY2"
      },
      "source": [
        "## Additional Material"
      ]
    },
    {
      "cell_type": "markdown",
      "metadata": {
        "id": "Q_XInRQsyjur"
      },
      "source": [
        "If you are interested in Boosting algorithm, you could read additional material here [LightGBM - Paper](https://papers.nips.cc/paper/6907-lightgbm-a-highly-efficient-gradient-boosting-decision-tree.pdf), and [LightGBM - Documentation](https://lightgbm.readthedocs.io/en/latest/). You can also refer to [CatBoost - Paper](https://arxiv.org/abs/1706.09516) and [CatBoost - Documentation](https://catboost.ai/docs/concepts/about.html). Hope you enjoy this worksheet."
      ]
    }
  ]
}