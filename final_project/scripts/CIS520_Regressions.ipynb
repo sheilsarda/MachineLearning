{
 "cells": [
  {
   "cell_type": "code",
   "execution_count": 49,
   "metadata": {},
   "outputs": [],
   "source": [
    "import pandas as pd\n",
    "import datetime\n",
    "import yfinance as yf\n",
    "import requests\n",
    "import io\n",
    "from matplotlib import pyplot as plt\n",
    "from sklearn.ensemble import RandomForestRegressor\n",
    "import math"
   ]
  },
  {
   "cell_type": "code",
   "execution_count": 50,
   "metadata": {},
   "outputs": [],
   "source": [
    "# Comment this to get the all-symbols\n",
    "symbols = [\"AAL\", \"AAPL\", \"DAL\", \"FB\", \"AMZN\", \"TSLA\", \"MSFT\", \"CRM\", \"F\"]"
   ]
  },
  {
   "cell_type": "code",
   "execution_count": 51,
   "metadata": {},
   "outputs": [],
   "source": [
    "stock_data = pd.DataFrame()\n",
    "start = datetime.datetime(2016, 1, 1)\n",
    "end = datetime.datetime(2020, 12, 1)"
   ]
  },
  {
   "cell_type": "code",
   "execution_count": 52,
   "metadata": {},
   "outputs": [],
   "source": [
    "def sma(data, n):\n",
    "    sma_values = pd.Series(data['Close'].rolling(n).mean(), name='Sma')\n",
    "    data = data.join(sma_values)\n",
    "    return data\n",
    "\n",
    "\n",
    "def ewma(data, n):\n",
    "    ema = pd.Series(data['Close'].ewm(span=n, min_periods=n - 1).mean(),\n",
    "                    name='Ewma_' + str(n))\n",
    "    data = data.join(ema)\n",
    "    return data\n",
    "\n",
    "\n",
    "def cci(data, n):\n",
    "    TP = (data['High'] + data['Low'] + data['Close']) / 3\n",
    "    cci_values = pd.Series((TP - TP.rolling(n).mean()) / (0.015 * TP.rolling(n).std()),\n",
    "                           name='Cci')\n",
    "    data = data.join(cci_values)\n",
    "    return data"
   ]
  },
  {
   "cell_type": "code",
   "execution_count": 53,
   "metadata": {},
   "outputs": [
    {
     "name": "stdout",
     "output_type": "stream",
     "text": [
      "[*********************100%***********************]  1 of 1 completed\n",
      "[*********************100%***********************]  1 of 1 completed\n",
      "[*********************100%***********************]  1 of 1 completed\n",
      "[*********************100%***********************]  1 of 1 completed\n",
      "[*********************100%***********************]  1 of 1 completed\n",
      "[*********************100%***********************]  1 of 1 completed\n",
      "[*********************100%***********************]  1 of 1 completed\n",
      "[*********************100%***********************]  1 of 1 completed\n",
      "[*********************100%***********************]  1 of 1 completed\n"
     ]
    }
   ],
   "source": [
    "for symbol in symbols:\n",
    "    try:\n",
    "        s = []\n",
    "        n = 15\n",
    "        s = yf.download(symbol, start=start, end=end)\n",
    "        if s is not None and len(s) > 0:\n",
    "            s['Name'] = symbol\n",
    "\n",
    "            # Getting simple moving average\n",
    "            s = sma(s, n)\n",
    "            s = s.dropna()\n",
    "\n",
    "            # Exponentially weighted moving average\n",
    "            s = ewma(s, n)\n",
    "            s = s.dropna()\n",
    "\n",
    "            # Commodity Channel Index\n",
    "            s = cci(s, n)\n",
    "            s = s.dropna()\n",
    "\n",
    "            stock_data = stock_data.append(s, sort=False)\n",
    "    except Exception:\n",
    "        None"
   ]
  },
  {
   "cell_type": "code",
   "execution_count": 54,
   "metadata": {},
   "outputs": [
    {
     "data": {
      "text/html": [
       "<div>\n",
       "<style scoped>\n",
       "    .dataframe tbody tr th:only-of-type {\n",
       "        vertical-align: middle;\n",
       "    }\n",
       "\n",
       "    .dataframe tbody tr th {\n",
       "        vertical-align: top;\n",
       "    }\n",
       "\n",
       "    .dataframe thead th {\n",
       "        text-align: right;\n",
       "    }\n",
       "</style>\n",
       "<table border=\"1\" class=\"dataframe\">\n",
       "  <thead>\n",
       "    <tr style=\"text-align: right;\">\n",
       "      <th></th>\n",
       "      <th>Open</th>\n",
       "      <th>High</th>\n",
       "      <th>Low</th>\n",
       "      <th>Close</th>\n",
       "      <th>Adj Close</th>\n",
       "      <th>Volume</th>\n",
       "      <th>Name</th>\n",
       "      <th>Sma</th>\n",
       "      <th>Ewma_15</th>\n",
       "      <th>Cci</th>\n",
       "    </tr>\n",
       "    <tr>\n",
       "      <th>Date</th>\n",
       "      <th></th>\n",
       "      <th></th>\n",
       "      <th></th>\n",
       "      <th></th>\n",
       "      <th></th>\n",
       "      <th></th>\n",
       "      <th></th>\n",
       "      <th></th>\n",
       "      <th></th>\n",
       "      <th></th>\n",
       "    </tr>\n",
       "  </thead>\n",
       "  <tbody>\n",
       "    <tr>\n",
       "      <th>2016-03-03</th>\n",
       "      <td>41.52</td>\n",
       "      <td>42.240002</td>\n",
       "      <td>41.23</td>\n",
       "      <td>41.880001</td>\n",
       "      <td>40.131638</td>\n",
       "      <td>8812800</td>\n",
       "      <td>AAL</td>\n",
       "      <td>40.131334</td>\n",
       "      <td>40.440453</td>\n",
       "      <td>76.573999</td>\n",
       "    </tr>\n",
       "  </tbody>\n",
       "</table>\n",
       "</div>"
      ],
      "text/plain": [
       "             Open       High    Low      Close  Adj Close   Volume Name  \\\n",
       "Date                                                                      \n",
       "2016-03-03  41.52  42.240002  41.23  41.880001  40.131638  8812800  AAL   \n",
       "\n",
       "                  Sma    Ewma_15        Cci  \n",
       "Date                                         \n",
       "2016-03-03  40.131334  40.440453  76.573999  "
      ]
     },
     "execution_count": 54,
     "metadata": {},
     "output_type": "execute_result"
    }
   ],
   "source": [
    "stock_data.head(1)"
   ]
  },
  {
   "cell_type": "code",
   "execution_count": 69,
   "metadata": {},
   "outputs": [
    {
     "data": {
      "text/html": [
       "<div>\n",
       "<style scoped>\n",
       "    .dataframe tbody tr th:only-of-type {\n",
       "        vertical-align: middle;\n",
       "    }\n",
       "\n",
       "    .dataframe tbody tr th {\n",
       "        vertical-align: top;\n",
       "    }\n",
       "\n",
       "    .dataframe thead th {\n",
       "        text-align: right;\n",
       "    }\n",
       "</style>\n",
       "<table border=\"1\" class=\"dataframe\">\n",
       "  <thead>\n",
       "    <tr style=\"text-align: right;\">\n",
       "      <th></th>\n",
       "      <th>Open</th>\n",
       "      <th>High</th>\n",
       "      <th>Low</th>\n",
       "      <th>Close</th>\n",
       "      <th>Adj Close</th>\n",
       "      <th>Volume</th>\n",
       "      <th>Sma</th>\n",
       "      <th>Ewma_15</th>\n",
       "      <th>Cci</th>\n",
       "    </tr>\n",
       "    <tr>\n",
       "      <th>Name</th>\n",
       "      <th></th>\n",
       "      <th></th>\n",
       "      <th></th>\n",
       "      <th></th>\n",
       "      <th></th>\n",
       "      <th></th>\n",
       "      <th></th>\n",
       "      <th></th>\n",
       "      <th></th>\n",
       "    </tr>\n",
       "  </thead>\n",
       "  <tbody>\n",
       "    <tr>\n",
       "      <th>AAL</th>\n",
       "      <td>35.13</td>\n",
       "      <td>35.66</td>\n",
       "      <td>34.57</td>\n",
       "      <td>35.08</td>\n",
       "      <td>34.28</td>\n",
       "      <td>1.858523e+07</td>\n",
       "      <td>35.24</td>\n",
       "      <td>35.24</td>\n",
       "      <td>-0.91</td>\n",
       "    </tr>\n",
       "    <tr>\n",
       "      <th>AAPL</th>\n",
       "      <td>51.25</td>\n",
       "      <td>51.81</td>\n",
       "      <td>50.72</td>\n",
       "      <td>51.29</td>\n",
       "      <td>49.84</td>\n",
       "      <td>1.290359e+08</td>\n",
       "      <td>50.75</td>\n",
       "      <td>50.75</td>\n",
       "      <td>31.75</td>\n",
       "    </tr>\n",
       "    <tr>\n",
       "      <th>AMZN</th>\n",
       "      <td>1561.42</td>\n",
       "      <td>1577.66</td>\n",
       "      <td>1542.78</td>\n",
       "      <td>1561.00</td>\n",
       "      <td>1561.00</td>\n",
       "      <td>4.364737e+06</td>\n",
       "      <td>1545.88</td>\n",
       "      <td>1545.80</td>\n",
       "      <td>28.93</td>\n",
       "    </tr>\n",
       "    <tr>\n",
       "      <th>CRM</th>\n",
       "      <td>131.11</td>\n",
       "      <td>132.65</td>\n",
       "      <td>129.39</td>\n",
       "      <td>131.12</td>\n",
       "      <td>131.12</td>\n",
       "      <td>5.661316e+06</td>\n",
       "      <td>130.03</td>\n",
       "      <td>130.03</td>\n",
       "      <td>21.60</td>\n",
       "    </tr>\n",
       "    <tr>\n",
       "      <th>DAL</th>\n",
       "      <td>47.78</td>\n",
       "      <td>48.37</td>\n",
       "      <td>47.14</td>\n",
       "      <td>47.73</td>\n",
       "      <td>45.66</td>\n",
       "      <td>1.228114e+07</td>\n",
       "      <td>47.79</td>\n",
       "      <td>47.79</td>\n",
       "      <td>5.94</td>\n",
       "    </tr>\n",
       "    <tr>\n",
       "      <th>F</th>\n",
       "      <td>10.18</td>\n",
       "      <td>10.28</td>\n",
       "      <td>10.07</td>\n",
       "      <td>10.17</td>\n",
       "      <td>8.97</td>\n",
       "      <td>4.617800e+07</td>\n",
       "      <td>10.19</td>\n",
       "      <td>10.19</td>\n",
       "      <td>-0.06</td>\n",
       "    </tr>\n",
       "    <tr>\n",
       "      <th>FB</th>\n",
       "      <td>172.71</td>\n",
       "      <td>174.64</td>\n",
       "      <td>170.74</td>\n",
       "      <td>172.79</td>\n",
       "      <td>172.79</td>\n",
       "      <td>2.111772e+07</td>\n",
       "      <td>171.81</td>\n",
       "      <td>171.80</td>\n",
       "      <td>21.17</td>\n",
       "    </tr>\n",
       "    <tr>\n",
       "      <th>MSFT</th>\n",
       "      <td>110.45</td>\n",
       "      <td>111.51</td>\n",
       "      <td>109.30</td>\n",
       "      <td>110.47</td>\n",
       "      <td>107.63</td>\n",
       "      <td>2.901662e+07</td>\n",
       "      <td>109.52</td>\n",
       "      <td>109.52</td>\n",
       "      <td>33.47</td>\n",
       "    </tr>\n",
       "    <tr>\n",
       "      <th>TSLA</th>\n",
       "      <td>95.12</td>\n",
       "      <td>97.30</td>\n",
       "      <td>92.86</td>\n",
       "      <td>95.19</td>\n",
       "      <td>95.19</td>\n",
       "      <td>4.173214e+07</td>\n",
       "      <td>92.37</td>\n",
       "      <td>92.46</td>\n",
       "      <td>15.25</td>\n",
       "    </tr>\n",
       "  </tbody>\n",
       "</table>\n",
       "</div>"
      ],
      "text/plain": [
       "         Open     High      Low    Close  Adj Close        Volume      Sma  \\\n",
       "Name                                                                         \n",
       "AAL     35.13    35.66    34.57    35.08      34.28  1.858523e+07    35.24   \n",
       "AAPL    51.25    51.81    50.72    51.29      49.84  1.290359e+08    50.75   \n",
       "AMZN  1561.42  1577.66  1542.78  1561.00    1561.00  4.364737e+06  1545.88   \n",
       "CRM    131.11   132.65   129.39   131.12     131.12  5.661316e+06   130.03   \n",
       "DAL     47.78    48.37    47.14    47.73      45.66  1.228114e+07    47.79   \n",
       "F       10.18    10.28    10.07    10.17       8.97  4.617800e+07    10.19   \n",
       "FB     172.71   174.64   170.74   172.79     172.79  2.111772e+07   171.81   \n",
       "MSFT   110.45   111.51   109.30   110.47     107.63  2.901662e+07   109.52   \n",
       "TSLA    95.12    97.30    92.86    95.19      95.19  4.173214e+07    92.37   \n",
       "\n",
       "      Ewma_15    Cci  \n",
       "Name                  \n",
       "AAL     35.24  -0.91  \n",
       "AAPL    50.75  31.75  \n",
       "AMZN  1545.80  28.93  \n",
       "CRM    130.03  21.60  \n",
       "DAL     47.79   5.94  \n",
       "F       10.19  -0.06  \n",
       "FB     171.80  21.17  \n",
       "MSFT   109.52  33.47  \n",
       "TSLA    92.46  15.25  "
      ]
     },
     "execution_count": 69,
     "metadata": {},
     "output_type": "execute_result"
    }
   ],
   "source": [
    "stock_data.groupby(\"Name\").mean().round(2)"
   ]
  },
  {
   "cell_type": "code",
   "execution_count": 55,
   "metadata": {},
   "outputs": [
    {
     "name": "stdout",
     "output_type": "stream",
     "text": [
      "<class 'pandas.core.frame.DataFrame'>\n",
      "DatetimeIndex: 10764 entries, 2016-03-03 to 2020-11-30\n",
      "Data columns (total 10 columns):\n",
      " #   Column     Non-Null Count  Dtype  \n",
      "---  ------     --------------  -----  \n",
      " 0   Open       10764 non-null  float64\n",
      " 1   High       10764 non-null  float64\n",
      " 2   Low        10764 non-null  float64\n",
      " 3   Close      10764 non-null  float64\n",
      " 4   Adj Close  10764 non-null  float64\n",
      " 5   Volume     10764 non-null  int64  \n",
      " 6   Name       10764 non-null  object \n",
      " 7   Sma        10764 non-null  float64\n",
      " 8   Ewma_15    10764 non-null  float64\n",
      " 9   Cci        10764 non-null  float64\n",
      "dtypes: float64(8), int64(1), object(1)\n",
      "memory usage: 925.0+ KB\n"
     ]
    }
   ],
   "source": [
    "stock_data.info()"
   ]
  },
  {
   "cell_type": "code",
   "execution_count": 56,
   "metadata": {},
   "outputs": [
    {
     "data": {
      "text/plain": [
       "['AAL', 'AAPL', 'DAL', 'FB', 'AMZN', 'TSLA', 'MSFT', 'CRM', 'F']"
      ]
     },
     "execution_count": 56,
     "metadata": {},
     "output_type": "execute_result"
    }
   ],
   "source": [
    "symbols"
   ]
  },
  {
   "cell_type": "markdown",
   "metadata": {},
   "source": [
    "# Plotting Stock Prices on Double Y-Axis plot to determine correlations"
   ]
  },
  {
   "cell_type": "code",
   "execution_count": 57,
   "metadata": {},
   "outputs": [],
   "source": [
    "two_stocks = ['TSLA', 'F']"
   ]
  },
  {
   "cell_type": "code",
   "execution_count": 58,
   "metadata": {},
   "outputs": [
    {
     "data": {
      "image/png": "[encoded data removed]",
      "text/plain": [
       "<Figure size 720x720 with 2 Axes>"
      ]
     },
     "metadata": {
      "needs_background": "light"
     },
     "output_type": "display_data"
    }
   ],
   "source": [
    "fig, ax1 = plt.subplots(figsize=(10, 10))\n",
    "\n",
    "color = 'tab:red'\n",
    "ax1.set_xlabel('Date')\n",
    "ax1.set_ylabel(two_stocks[0], color=color)\n",
    "ax1.plot(stock_data[stock_data.Name == two_stocks[0]].index.values, stock_data[stock_data.Name == two_stocks[0]].Close, color=color)\n",
    "ax1.tick_params(axis='y', labelcolor=color)\n",
    "\n",
    "ax2 = ax1.twinx()  # instantiate a second axes that shares the same x-axis\n",
    "\n",
    "color = 'tab:blue'\n",
    "ax2.set_ylabel(two_stocks[1], color=color)  # we already handled the x-label with ax1\n",
    "ax2.plot(stock_data[stock_data.Name == two_stocks[1]].index.values, stock_data[stock_data.Name == two_stocks[1]].Close, color=color)\n",
    "ax2.tick_params(axis='y', labelcolor=color)\n",
    "\n",
    "fig.tight_layout()  # otherwise the right y-label is slightly clipped\n",
    "plt.show()"
   ]
  },
  {
   "cell_type": "code",
   "execution_count": 46,
   "metadata": {},
   "outputs": [],
   "source": [
    "def rmse(x,y): return math.sqrt(((x-y)**2).mean())\n",
    "def mse(x, y): return ((x-y)**2).mean()\n",
    "\n",
    "def print_score(m):\n",
    "    res = [rmse(m.predict(X_train), y_train), rmse(m.predict(X_val), y_val),\n",
    "                m.score(X_train, y_train), m.score(X_val, y_val)]\n",
    "    print(f\"rmse train {res[0]}, rmse val {res[1]}, r^2 train {res[2]}, r^2 val {res[3]}\")\n",
    "    res = [mse(m.predict(X_train), y_train), mse(m.predict(X_val), y_val),\n",
    "                m.score(X_train, y_train), m.score(X_val, y_val)]\n",
    "    print(f\"mse train {res[0]}, mse val {res[1]}, r^2 train {res[2]}, r^2 val {res[3]}\")"
   ]
  },
  {
   "cell_type": "markdown",
   "metadata": {},
   "source": [
    "# Random Forest Regressor to predict $MSFT"
   ]
  },
  {
   "cell_type": "code",
   "execution_count": 12,
   "metadata": {},
   "outputs": [],
   "source": [
    "features = ['High', 'Low', 'Ewma_15']"
   ]
  },
  {
   "cell_type": "code",
   "execution_count": 13,
   "metadata": {},
   "outputs": [
    {
     "name": "stdout",
     "output_type": "stream",
     "text": [
      "AAL\n",
      "rmse train 0.1733279006932176, rmse val 0.2768624314363632, r^2 train 0.9947497708840009, r^2 val 0.8986710006700621\n",
      "mse train 0.030042561158717902, mse val 0.07665280594085491, r^2 train 0.9947497708840009, r^2 val 0.8986710006700621\n",
      "----------------------------------\n",
      "AAPL\n",
      "rmse train 0.5131484218645317, rmse val 4.266112795529098, r^2 train 0.9991747929267586, r^2 val 0.2813178781036241\n",
      "mse train 0.2633213028620594, mse val 18.199718384177096, r^2 train 0.9991747929267586, r^2 val 0.2813178781036241\n",
      "----------------------------------\n",
      "DAL\n",
      "rmse train 0.3141737192517759, rmse val 1.154343843716038, r^2 train 0.9968857431169136, r^2 val 0.8524079911135759\n",
      "mse train 0.09870512586849368, mse val 1.332509709525117, r^2 train 0.9968857431169136, r^2 val 0.8524079911135759\n",
      "----------------------------------\n",
      "FB\n",
      "rmse train 1.3071891720266648, rmse val 5.64326031620803, r^2 train 0.9987586549696157, r^2 val 0.7759044501428538\n",
      "mse train 1.7087435314637578, mse val 31.846386996488352, r^2 train 0.9987586549696157, r^2 val 0.7759044501428538\n",
      "----------------------------------\n",
      "AMZN\n",
      "rmse train 13.096189680895039, rmse val 61.02484925159352, r^2 train 0.9992574759513051, r^2 val 0.7636605885004306\n",
      "mse train 171.5101841579817, mse val 3724.0322261797146, r^2 train 0.9992574759513051, r^2 val 0.7636605885004306\n",
      "----------------------------------\n",
      "TSLA\n",
      "rmse train 2.4295991392541483, rmse val 35.30371663986044, r^2 train 0.999291818256427, r^2 val 0.3632714015120815\n",
      "mse train 5.9029519774644985, mse val 1246.3524085875588, r^2 train 0.999291818256427, r^2 val 0.3632714015120815\n",
      "----------------------------------\n",
      "MSFT\n",
      "rmse train 1.0396589578463902, rmse val 2.7451335175356, r^2 train 0.9978374915686818, r^2 val 0.8447204327485128\n",
      "mse train 1.0808907486302421, mse val 7.535758029097378, r^2 train 0.9978374915686818, r^2 val 0.8447204327485128\n",
      "----------------------------------\n",
      "CRM\n",
      "rmse train 1.3983847390200017, rmse val 15.69811820822404, r^2 train 0.9969587081767596, r^2 val -1.4837176963899976\n",
      "mse train 1.9554798783240384, mse val 246.4309152793751, r^2 train 0.9969587081767596, r^2 val -1.4837176963899976\n",
      "----------------------------------\n"
     ]
    }
   ],
   "source": [
    "for symbol in symbols:\n",
    "    dataset = stock_data[stock_data.Name == symbol]\n",
    "    X_df = dataset[features]\n",
    "    y_df = dataset['Close']\n",
    "\n",
    "    TOTAL = dataset.count()[0] \n",
    "    N_VALID = int( TOTAL * (1/3))\n",
    "    TRAIN = int(TOTAL - N_VALID )\n",
    "\n",
    "    X_train, X_val = X_df[:TRAIN], X_df[TRAIN:]\n",
    "    y_train, y_val = y_df[:TRAIN], y_df[TRAIN:]\n",
    "\n",
    "    model = RandomForestRegressor(n_estimators=100,bootstrap=True, min_samples_leaf=1, max_depth=10)\n",
    "    model.fit(X_train, y_train)\n",
    "\n",
    "    print(symbol)\n",
    "    print_score(model)\n",
    "    print(\"----------------------------------\")"
   ]
  }
 ],
 "metadata": {
  "kernelspec": {
   "display_name": "Python 3",
   "language": "python",
   "name": "python3"
  },
  "language_info": {
   "codemirror_mode": {
    "name": "ipython",
    "version": 3
   },
   "file_extension": ".py",
   "mimetype": "text/x-python",
   "name": "python",
   "nbconvert_exporter": "python",
   "pygments_lexer": "ipython3",
   "version": "3.7.9"
  }
 },
 "nbformat": 4,
 "nbformat_minor": 4
}
